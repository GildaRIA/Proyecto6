{
 "cells": [
  {
   "cell_type": "code",
   "execution_count": 1,
   "id": "2ca1fc26-46a1-4b33-8d8a-e893188a30bb",
   "metadata": {},
   "outputs": [],
   "source": [
    "import pandas as pd\n",
    "import numpy as np\n",
    "import matplotlib.pyplot as plt"
   ]
  },
  {
   "cell_type": "code",
   "execution_count": 2,
   "id": "f54c0c67-33d4-41d3-b403-61e4aadc3f90",
   "metadata": {},
   "outputs": [],
   "source": [
    "df_train = pd.read_csv('z_train.csv')\n",
    "df_test = pd.read_csv('z_test.csv')"
   ]
  },
  {
   "cell_type": "code",
   "execution_count": 3,
   "id": "0118e016-9b0a-49c8-b261-47f5fb8efea5",
   "metadata": {},
   "outputs": [],
   "source": [
    "df_train_copy = df_train.copy()\n",
    "df_test_copy = df_test.copy()"
   ]
  },
  {
   "cell_type": "code",
   "execution_count": 4,
   "id": "31af1352-618d-4941-951c-61cec5524fc3",
   "metadata": {},
   "outputs": [
    {
     "data": {
      "text/plain": [
       "(3824, 14)"
      ]
     },
     "execution_count": 4,
     "metadata": {},
     "output_type": "execute_result"
    }
   ],
   "source": [
    "df_train_copy[df_train_copy.target==1].shape"
   ]
  },
  {
   "cell_type": "code",
   "execution_count": 5,
   "id": "0b7df3ac-4457-47ec-86ab-9f42cce430e7",
   "metadata": {},
   "outputs": [
    {
     "data": {
      "text/plain": [
       "(11502, 14)"
      ]
     },
     "execution_count": 5,
     "metadata": {},
     "output_type": "execute_result"
    }
   ],
   "source": [
    "df_train_copy[df_train_copy.target==0].shape"
   ]
  },
  {
   "cell_type": "code",
   "execution_count": 6,
   "id": "58f08e66-9887-43d4-b761-e72c8075618b",
   "metadata": {},
   "outputs": [],
   "source": [
    "df_test_copy.drop(['enrollee_id', 'city','company_size', 'enrolled_university', 'major_discipline'], axis=1 , inplace = True)"
   ]
  },
  {
   "cell_type": "code",
   "execution_count": 7,
   "id": "c9d2f4e6-bdcf-41af-8a8f-6dbca1ec58d5",
   "metadata": {},
   "outputs": [],
   "source": [
    "df_train_copy.drop(['enrollee_id', 'city','company_size', 'enrolled_university', 'major_discipline'], axis=1 , inplace = True)\n"
   ]
  },
  {
   "cell_type": "code",
   "execution_count": 8,
   "id": "4adbf55b-9e3a-4e2e-8552-26ed87a97748",
   "metadata": {},
   "outputs": [],
   "source": [
    "df_train_copy.dropna(inplace=True)"
   ]
  },
  {
   "cell_type": "code",
   "execution_count": 9,
   "id": "be9d14ec-944b-4594-a9c3-0b0318681721",
   "metadata": {},
   "outputs": [
    {
     "data": {
      "text/plain": [
       "(8081, 9)"
      ]
     },
     "execution_count": 9,
     "metadata": {},
     "output_type": "execute_result"
    }
   ],
   "source": [
    "df_train_copy.shape"
   ]
  },
  {
   "cell_type": "code",
   "execution_count": 10,
   "id": "d296818a-a37f-43e0-a077-00bdb048ee75",
   "metadata": {},
   "outputs": [
    {
     "data": {
      "text/plain": [
       "(15326, 14)"
      ]
     },
     "execution_count": 10,
     "metadata": {},
     "output_type": "execute_result"
    }
   ],
   "source": [
    "df_train.shape"
   ]
  },
  {
   "cell_type": "code",
   "execution_count": 11,
   "id": "400416c8-141e-480f-9b50-3626a80e3e69",
   "metadata": {},
   "outputs": [],
   "source": [
    "def cambiar_mayor(num):\n",
    "    num= str(num)\n",
    "    if '>' in num:\n",
    "        num = num.replace('>','')\n",
    "        return num\n",
    "    \n",
    "    if '<' in num:\n",
    "        num = num.replace('<1','0')\n",
    "        return num\n",
    "    \n",
    "    if 'nan' in num:\n",
    "        num = num.replace('nan','')\n",
    "        return num\n",
    "    \n",
    "    else:\n",
    "        return num"
   ]
  },
  {
   "cell_type": "code",
   "execution_count": 12,
   "id": "92d9c009-97e6-44ab-937d-398447b473ad",
   "metadata": {},
   "outputs": [],
   "source": [
    "df_train_copy.experience = df_train_copy.experience.apply(cambiar_mayor)"
   ]
  },
  {
   "cell_type": "code",
   "execution_count": 13,
   "id": "1b663862-751f-4d2c-a9db-bf1ad142d039",
   "metadata": {},
   "outputs": [],
   "source": [
    "df_train_copy['experience'] = pd.to_numeric(df_train_copy.experience)"
   ]
  },
  {
   "cell_type": "code",
   "execution_count": 14,
   "id": "357f84a9-75e6-45dd-8d7c-8245324a419a",
   "metadata": {},
   "outputs": [],
   "source": [
    "df_test_copy.experience = df_train_copy.experience.apply(cambiar_mayor)\n",
    "df_test_copy['experience'] = pd.to_numeric(df_train_copy.experience)"
   ]
  },
  {
   "cell_type": "code",
   "execution_count": 15,
   "id": "c9fe0350-d9d5-4e0a-8518-7ade64a69447",
   "metadata": {},
   "outputs": [],
   "source": [
    "def cambiar_num(num):\n",
    "    num= str(num)\n",
    "    if '>4' in num:\n",
    "        num = num.replace('>4','5')\n",
    "        return num\n",
    "    \n",
    "    if 'never' in num:\n",
    "        num = num.replace('never','0')\n",
    "        return num\n",
    "    \n",
    "    if 'nan' in num:\n",
    "        num = num.replace('nan','')\n",
    "        return num\n",
    "    \n",
    "    else:\n",
    "        return num"
   ]
  },
  {
   "cell_type": "code",
   "execution_count": 16,
   "id": "37c39cf5-caf3-4249-b011-94e5b1e365d7",
   "metadata": {},
   "outputs": [],
   "source": [
    "df_train_copy.last_new_job = df_train_copy.last_new_job.apply(cambiar_num)"
   ]
  },
  {
   "cell_type": "code",
   "execution_count": 17,
   "id": "dfd8067b-c907-4482-92ca-ebffc54430ba",
   "metadata": {},
   "outputs": [],
   "source": [
    "df_train_copy['last_new_job'] = pd.to_numeric(df_train_copy.last_new_job)"
   ]
  },
  {
   "cell_type": "code",
   "execution_count": 18,
   "id": "da8687fb-4cfe-4afa-914b-08e10ec07f10",
   "metadata": {},
   "outputs": [],
   "source": [
    "df_test_copy.last_new_job = df_train_copy.last_new_job.apply(cambiar_num)\n",
    "df_test_copy['last_new_job'] = pd.to_numeric(df_train_copy.last_new_job)"
   ]
  },
  {
   "cell_type": "code",
   "execution_count": 19,
   "id": "6eda92dd-e018-42c6-ae43-669b63324e84",
   "metadata": {},
   "outputs": [
    {
     "data": {
      "text/plain": [
       "Index(['city_development_index', 'gender', 'relevent_experience',\n",
       "       'education_level', 'experience', 'company_type', 'last_new_job',\n",
       "       'training_hours', 'target'],\n",
       "      dtype='object')"
      ]
     },
     "execution_count": 19,
     "metadata": {},
     "output_type": "execute_result"
    }
   ],
   "source": [
    "df_train_copy.columns"
   ]
  },
  {
   "cell_type": "code",
   "execution_count": 20,
   "id": "28404ada-beba-4bd0-ace6-bcf91fde3c7a",
   "metadata": {},
   "outputs": [
    {
     "data": {
      "text/plain": [
       "20    1680\n",
       "5      542\n",
       "6      504\n",
       "10     490\n",
       "9      464\n",
       "4      461\n",
       "7      443\n",
       "3      426\n",
       "15     357\n",
       "8      350\n",
       "11     340\n",
       "2      315\n",
       "14     305\n",
       "16     268\n",
       "12     235\n",
       "13     197\n",
       "17     178\n",
       "19     157\n",
       "18     142\n",
       "1      131\n",
       "0       96\n",
       "Name: experience, dtype: int64"
      ]
     },
     "execution_count": 20,
     "metadata": {},
     "output_type": "execute_result"
    }
   ],
   "source": [
    "df_train_copy.experience.value_counts()"
   ]
  },
  {
   "cell_type": "code",
   "execution_count": 21,
   "id": "3818db6b-3ae5-4f7d-9e6b-09454f2fb1dc",
   "metadata": {},
   "outputs": [
    {
     "name": "stdout",
     "output_type": "stream",
     "text": [
      "Requirement already satisfied: feature_engine in c:\\anaconda\\lib\\site-packages (1.5.2)\n",
      "Requirement already satisfied: statsmodels>=0.11.1 in c:\\anaconda\\lib\\site-packages (from feature_engine) (0.13.2)\n",
      "Requirement already satisfied: scipy>=1.4.1 in c:\\anaconda\\lib\\site-packages (from feature_engine) (1.7.3)\n",
      "Requirement already satisfied: scikit-learn>=1.0.0 in c:\\anaconda\\lib\\site-packages (from feature_engine) (1.0.2)\n",
      "Requirement already satisfied: numpy>=1.18.2 in c:\\anaconda\\lib\\site-packages (from feature_engine) (1.21.5)\n",
      "Requirement already satisfied: pandas>=1.0.3 in c:\\anaconda\\lib\\site-packages (from feature_engine) (1.4.2)\n",
      "Requirement already satisfied: pytz>=2020.1 in c:\\anaconda\\lib\\site-packages (from pandas>=1.0.3->feature_engine) (2021.3)\n",
      "Requirement already satisfied: python-dateutil>=2.8.1 in c:\\anaconda\\lib\\site-packages (from pandas>=1.0.3->feature_engine) (2.8.2)\n",
      "Requirement already satisfied: six>=1.5 in c:\\anaconda\\lib\\site-packages (from python-dateutil>=2.8.1->pandas>=1.0.3->feature_engine) (1.16.0)\n",
      "Requirement already satisfied: threadpoolctl>=2.0.0 in c:\\anaconda\\lib\\site-packages (from scikit-learn>=1.0.0->feature_engine) (2.2.0)\n",
      "Requirement already satisfied: joblib>=0.11 in c:\\anaconda\\lib\\site-packages (from scikit-learn>=1.0.0->feature_engine) (1.1.0)\n",
      "Requirement already satisfied: patsy>=0.5.2 in c:\\anaconda\\lib\\site-packages (from statsmodels>=0.11.1->feature_engine) (0.5.2)\n",
      "Requirement already satisfied: packaging>=21.3 in c:\\anaconda\\lib\\site-packages (from statsmodels>=0.11.1->feature_engine) (21.3)\n",
      "Requirement already satisfied: pyparsing!=3.0.5,>=2.0.2 in c:\\anaconda\\lib\\site-packages (from packaging>=21.3->statsmodels>=0.11.1->feature_engine) (3.0.4)\n",
      "Note: you may need to restart the kernel to use updated packages.\n"
     ]
    }
   ],
   "source": [
    "pip install feature_engine"
   ]
  },
  {
   "cell_type": "code",
   "execution_count": 22,
   "id": "15500b94-30c6-4b67-a055-6194f8b9d3f1",
   "metadata": {},
   "outputs": [],
   "source": [
    "from sklearn.pipeline import Pipeline\n",
    "from sklearn.linear_model import LinearRegression, Ridge, Lasso\n",
    "from sklearn.preprocessing import RobustScaler, OrdinalEncoder\n",
    "from sklearn.model_selection import train_test_split\n",
    "from feature_engine import imputation as imp\n",
    "from feature_engine import encoding as enc\n",
    "from feature_engine.wrappers import SklearnTransformerWrapper\n",
    "from feature_engine.encoding import OneHotEncoder\n",
    "from feature_engine import imputation as mdi\n",
    "\n",
    "\n",
    "from sklearn.preprocessing import StandardScaler\n",
    "from sklearn.preprocessing import RobustScaler\n",
    "\n",
    "from feature_engine.wrappers import SklearnTransformerWrapper\n",
    "\n",
    "\n",
    "from sklearn.linear_model import LogisticRegression\n",
    "from sklearn import metrics\n",
    "\n",
    "import sklearn.metrics"
   ]
  },
  {
   "cell_type": "code",
   "execution_count": 23,
   "id": "2a1daf4a-8add-478a-9951-b83d3aa4b771",
   "metadata": {},
   "outputs": [],
   "source": [
    "X_train, X_test, y_train, y_test = train_test_split(df_train_copy.drop(columns = ['target']), df_train_copy.target, test_size = 0.2, random_state = 830)"
   ]
  },
  {
   "cell_type": "code",
   "execution_count": 24,
   "id": "7e5f11bd-b7bf-404c-9602-3b97ca010cd3",
   "metadata": {},
   "outputs": [
    {
     "name": "stdout",
     "output_type": "stream",
     "text": [
      "<class 'pandas.core.frame.DataFrame'>\n",
      "Int64Index: 8081 entries, 1 to 15324\n",
      "Data columns (total 9 columns):\n",
      " #   Column                  Non-Null Count  Dtype  \n",
      "---  ------                  --------------  -----  \n",
      " 0   city_development_index  8081 non-null   float64\n",
      " 1   gender                  8081 non-null   object \n",
      " 2   relevent_experience     8081 non-null   object \n",
      " 3   education_level         8081 non-null   object \n",
      " 4   experience              8081 non-null   int64  \n",
      " 5   company_type            8081 non-null   object \n",
      " 6   last_new_job            8081 non-null   int64  \n",
      " 7   training_hours          8081 non-null   int64  \n",
      " 8   target                  8081 non-null   float64\n",
      "dtypes: float64(2), int64(3), object(4)\n",
      "memory usage: 889.4+ KB\n"
     ]
    }
   ],
   "source": [
    "df_train_copy.info()"
   ]
  },
  {
   "cell_type": "code",
   "execution_count": 25,
   "id": "07de02b4-adcb-4302-b733-d1d076cd0e10",
   "metadata": {},
   "outputs": [
    {
     "data": {
      "text/plain": [
       "1         47\n",
       "5         24\n",
       "6         18\n",
       "7         46\n",
       "10       108\n",
       "        ... \n",
       "15317     36\n",
       "15318     23\n",
       "15320     25\n",
       "15323     44\n",
       "15324     97\n",
       "Name: training_hours, Length: 8081, dtype: int64"
      ]
     },
     "execution_count": 25,
     "metadata": {},
     "output_type": "execute_result"
    }
   ],
   "source": [
    "df_train_copy.training_hours"
   ]
  },
  {
   "cell_type": "code",
   "execution_count": 26,
   "id": "fdc5d83c-94a8-45aa-9778-2dab5b464855",
   "metadata": {},
   "outputs": [
    {
     "name": "stdout",
     "output_type": "stream",
     "text": [
      "[Pipeline] ... (step 1 of 4) Processing mean_imputation, total=   0.0s\n",
      "[Pipeline] ... (step 2 of 4) Processing mode_imputation, total=   0.0s\n",
      "[Pipeline] ........... (step 3 of 4) Processing escalar, total=   0.0s\n",
      "[Pipeline] ........... (step 4 of 4) Processing one_hot, total=   0.0s\n"
     ]
    },
    {
     "data": {
      "text/plain": [
       "Pipeline(steps=[('mean_imputation',\n",
       "                 MeanMedianImputer(variables=['experience', 'last_new_job',\n",
       "                                              'training_hours'])),\n",
       "                ('mode_imputation',\n",
       "                 CategoricalImputer(variables=['education_level',\n",
       "                                               'relevent_experience', 'gender',\n",
       "                                               'company_type'])),\n",
       "                ('escalar',\n",
       "                 SklearnTransformerWrapper(transformer=StandardScaler(),\n",
       "                                           variables=['experience',\n",
       "                                                      'last_new_job',\n",
       "                                                      'training_hours'])),\n",
       "                ('one_hot',\n",
       "                 OneHotEncoder(variables=['education_level',\n",
       "                                          'relevent_experience', 'gender',\n",
       "                                          'company_type']))],\n",
       "         verbose=True)"
      ]
     },
     "execution_count": 26,
     "metadata": {},
     "output_type": "execute_result"
    }
   ],
   "source": [
    "pipeline_gilda = Pipeline([('mean_imputation', mdi.MeanMedianImputer(imputation_method = 'median',\n",
    "                                                                             variables = ['experience', 'last_new_job','training_hours'])),\n",
    "                                   ('mode_imputation', mdi.CategoricalImputer(imputation_method = 'missing',\n",
    "                                    variables = ['education_level', 'relevent_experience','gender','company_type'])),\n",
    "                                   ('escalar', SklearnTransformerWrapper(StandardScaler(), variables=['experience', 'last_new_job','training_hours'])),\n",
    "                                   ('one_hot', enc.OneHotEncoder(variables = ['education_level', 'relevent_experience','gender','company_type'])),                         \n",
    "                                   ], verbose = True)\n",
    "pipeline_gilda.fit(X_train, y_train)"
   ]
  },
  {
   "cell_type": "code",
   "execution_count": 27,
   "id": "abbef752-1268-4cca-870d-e7d1a145d54a",
   "metadata": {},
   "outputs": [],
   "source": [
    "test_1 = pipeline_gilda.transform(df_test_copy)"
   ]
  },
  {
   "cell_type": "code",
   "execution_count": 28,
   "id": "580afaec-62ce-4316-9983-fe8f9f78c301",
   "metadata": {},
   "outputs": [
    {
     "data": {
      "text/plain": [
       "(3832, 20)"
      ]
     },
     "execution_count": 28,
     "metadata": {},
     "output_type": "execute_result"
    }
   ],
   "source": [
    "test_1.shape"
   ]
  },
  {
   "cell_type": "code",
   "execution_count": 29,
   "id": "d12112cf-c8df-4c6b-b9f6-e28f08872314",
   "metadata": {},
   "outputs": [],
   "source": [
    "data_1 = pipeline_gilda.transform(X_train)"
   ]
  },
  {
   "cell_type": "code",
   "execution_count": 30,
   "id": "8921f847-e32e-4b4e-bd9c-1e4fde46c0ea",
   "metadata": {},
   "outputs": [
    {
     "data": {
      "text/plain": [
       "(6464, 20)"
      ]
     },
     "execution_count": 30,
     "metadata": {},
     "output_type": "execute_result"
    }
   ],
   "source": [
    "data_1.shape"
   ]
  },
  {
   "cell_type": "code",
   "execution_count": 31,
   "id": "4d32028d-9f4b-4d0e-952f-920724019fe4",
   "metadata": {},
   "outputs": [
    {
     "data": {
      "text/html": [
       "<div>\n",
       "<style scoped>\n",
       "    .dataframe tbody tr th:only-of-type {\n",
       "        vertical-align: middle;\n",
       "    }\n",
       "\n",
       "    .dataframe tbody tr th {\n",
       "        vertical-align: top;\n",
       "    }\n",
       "\n",
       "    .dataframe thead th {\n",
       "        text-align: right;\n",
       "    }\n",
       "</style>\n",
       "<table border=\"1\" class=\"dataframe\">\n",
       "  <thead>\n",
       "    <tr style=\"text-align: right;\">\n",
       "      <th></th>\n",
       "      <th>city_development_index</th>\n",
       "      <th>gender</th>\n",
       "      <th>relevent_experience</th>\n",
       "      <th>education_level</th>\n",
       "      <th>experience</th>\n",
       "      <th>company_type</th>\n",
       "      <th>last_new_job</th>\n",
       "      <th>training_hours</th>\n",
       "    </tr>\n",
       "  </thead>\n",
       "  <tbody>\n",
       "    <tr>\n",
       "      <th>6206</th>\n",
       "      <td>0.896</td>\n",
       "      <td>Male</td>\n",
       "      <td>Has relevent experience</td>\n",
       "      <td>Graduate</td>\n",
       "      <td>7</td>\n",
       "      <td>Pvt Ltd</td>\n",
       "      <td>5</td>\n",
       "      <td>34</td>\n",
       "    </tr>\n",
       "    <tr>\n",
       "      <th>1931</th>\n",
       "      <td>0.899</td>\n",
       "      <td>Male</td>\n",
       "      <td>Has relevent experience</td>\n",
       "      <td>Graduate</td>\n",
       "      <td>3</td>\n",
       "      <td>Pvt Ltd</td>\n",
       "      <td>1</td>\n",
       "      <td>155</td>\n",
       "    </tr>\n",
       "    <tr>\n",
       "      <th>1023</th>\n",
       "      <td>0.624</td>\n",
       "      <td>Male</td>\n",
       "      <td>Has relevent experience</td>\n",
       "      <td>Graduate</td>\n",
       "      <td>4</td>\n",
       "      <td>Pvt Ltd</td>\n",
       "      <td>1</td>\n",
       "      <td>50</td>\n",
       "    </tr>\n",
       "    <tr>\n",
       "      <th>2843</th>\n",
       "      <td>0.884</td>\n",
       "      <td>Other</td>\n",
       "      <td>Has relevent experience</td>\n",
       "      <td>Masters</td>\n",
       "      <td>10</td>\n",
       "      <td>Pvt Ltd</td>\n",
       "      <td>5</td>\n",
       "      <td>141</td>\n",
       "    </tr>\n",
       "    <tr>\n",
       "      <th>10360</th>\n",
       "      <td>0.939</td>\n",
       "      <td>Male</td>\n",
       "      <td>Has relevent experience</td>\n",
       "      <td>Graduate</td>\n",
       "      <td>8</td>\n",
       "      <td>Pvt Ltd</td>\n",
       "      <td>1</td>\n",
       "      <td>31</td>\n",
       "    </tr>\n",
       "  </tbody>\n",
       "</table>\n",
       "</div>"
      ],
      "text/plain": [
       "       city_development_index gender      relevent_experience education_level  \\\n",
       "6206                    0.896   Male  Has relevent experience        Graduate   \n",
       "1931                    0.899   Male  Has relevent experience        Graduate   \n",
       "1023                    0.624   Male  Has relevent experience        Graduate   \n",
       "2843                    0.884  Other  Has relevent experience         Masters   \n",
       "10360                   0.939   Male  Has relevent experience        Graduate   \n",
       "\n",
       "       experience company_type  last_new_job  training_hours  \n",
       "6206            7      Pvt Ltd             5              34  \n",
       "1931            3      Pvt Ltd             1             155  \n",
       "1023            4      Pvt Ltd             1              50  \n",
       "2843           10      Pvt Ltd             5             141  \n",
       "10360           8      Pvt Ltd             1              31  "
      ]
     },
     "execution_count": 31,
     "metadata": {},
     "output_type": "execute_result"
    }
   ],
   "source": [
    "X_train.head(5)"
   ]
  },
  {
   "cell_type": "code",
   "execution_count": 32,
   "id": "d2f70bd5-5ce8-4043-9ff2-6e1017ebb5ee",
   "metadata": {},
   "outputs": [
    {
     "data": {
      "text/html": [
       "<div>\n",
       "<style scoped>\n",
       "    .dataframe tbody tr th:only-of-type {\n",
       "        vertical-align: middle;\n",
       "    }\n",
       "\n",
       "    .dataframe tbody tr th {\n",
       "        vertical-align: top;\n",
       "    }\n",
       "\n",
       "    .dataframe thead th {\n",
       "        text-align: right;\n",
       "    }\n",
       "</style>\n",
       "<table border=\"1\" class=\"dataframe\">\n",
       "  <thead>\n",
       "    <tr style=\"text-align: right;\">\n",
       "      <th></th>\n",
       "      <th>city_development_index</th>\n",
       "      <th>experience</th>\n",
       "      <th>last_new_job</th>\n",
       "      <th>training_hours</th>\n",
       "      <th>education_level_Graduate</th>\n",
       "      <th>education_level_Masters</th>\n",
       "      <th>education_level_Primary School</th>\n",
       "      <th>education_level_High School</th>\n",
       "      <th>education_level_Phd</th>\n",
       "      <th>relevent_experience_Has relevent experience</th>\n",
       "      <th>relevent_experience_No relevent experience</th>\n",
       "      <th>gender_Male</th>\n",
       "      <th>gender_Other</th>\n",
       "      <th>gender_Female</th>\n",
       "      <th>company_type_Pvt Ltd</th>\n",
       "      <th>company_type_Early Stage Startup</th>\n",
       "      <th>company_type_Funded Startup</th>\n",
       "      <th>company_type_NGO</th>\n",
       "      <th>company_type_Public Sector</th>\n",
       "      <th>company_type_Other</th>\n",
       "    </tr>\n",
       "  </thead>\n",
       "  <tbody>\n",
       "    <tr>\n",
       "      <th>6206</th>\n",
       "      <td>0.896</td>\n",
       "      <td>-0.650472</td>\n",
       "      <td>1.625735</td>\n",
       "      <td>-0.521249</td>\n",
       "      <td>1</td>\n",
       "      <td>0</td>\n",
       "      <td>0</td>\n",
       "      <td>0</td>\n",
       "      <td>0</td>\n",
       "      <td>1</td>\n",
       "      <td>0</td>\n",
       "      <td>1</td>\n",
       "      <td>0</td>\n",
       "      <td>0</td>\n",
       "      <td>1</td>\n",
       "      <td>0</td>\n",
       "      <td>0</td>\n",
       "      <td>0</td>\n",
       "      <td>0</td>\n",
       "      <td>0</td>\n",
       "    </tr>\n",
       "    <tr>\n",
       "      <th>1931</th>\n",
       "      <td>0.899</td>\n",
       "      <td>-1.287492</td>\n",
       "      <td>-0.760990</td>\n",
       "      <td>1.482543</td>\n",
       "      <td>1</td>\n",
       "      <td>0</td>\n",
       "      <td>0</td>\n",
       "      <td>0</td>\n",
       "      <td>0</td>\n",
       "      <td>1</td>\n",
       "      <td>0</td>\n",
       "      <td>1</td>\n",
       "      <td>0</td>\n",
       "      <td>0</td>\n",
       "      <td>1</td>\n",
       "      <td>0</td>\n",
       "      <td>0</td>\n",
       "      <td>0</td>\n",
       "      <td>0</td>\n",
       "      <td>0</td>\n",
       "    </tr>\n",
       "    <tr>\n",
       "      <th>1023</th>\n",
       "      <td>0.624</td>\n",
       "      <td>-1.128237</td>\n",
       "      <td>-0.760990</td>\n",
       "      <td>-0.256284</td>\n",
       "      <td>1</td>\n",
       "      <td>0</td>\n",
       "      <td>0</td>\n",
       "      <td>0</td>\n",
       "      <td>0</td>\n",
       "      <td>1</td>\n",
       "      <td>0</td>\n",
       "      <td>1</td>\n",
       "      <td>0</td>\n",
       "      <td>0</td>\n",
       "      <td>1</td>\n",
       "      <td>0</td>\n",
       "      <td>0</td>\n",
       "      <td>0</td>\n",
       "      <td>0</td>\n",
       "      <td>0</td>\n",
       "    </tr>\n",
       "    <tr>\n",
       "      <th>2843</th>\n",
       "      <td>0.884</td>\n",
       "      <td>-0.172707</td>\n",
       "      <td>1.625735</td>\n",
       "      <td>1.250699</td>\n",
       "      <td>0</td>\n",
       "      <td>1</td>\n",
       "      <td>0</td>\n",
       "      <td>0</td>\n",
       "      <td>0</td>\n",
       "      <td>1</td>\n",
       "      <td>0</td>\n",
       "      <td>0</td>\n",
       "      <td>1</td>\n",
       "      <td>0</td>\n",
       "      <td>1</td>\n",
       "      <td>0</td>\n",
       "      <td>0</td>\n",
       "      <td>0</td>\n",
       "      <td>0</td>\n",
       "      <td>0</td>\n",
       "    </tr>\n",
       "    <tr>\n",
       "      <th>10360</th>\n",
       "      <td>0.939</td>\n",
       "      <td>-0.491217</td>\n",
       "      <td>-0.760990</td>\n",
       "      <td>-0.570929</td>\n",
       "      <td>1</td>\n",
       "      <td>0</td>\n",
       "      <td>0</td>\n",
       "      <td>0</td>\n",
       "      <td>0</td>\n",
       "      <td>1</td>\n",
       "      <td>0</td>\n",
       "      <td>1</td>\n",
       "      <td>0</td>\n",
       "      <td>0</td>\n",
       "      <td>1</td>\n",
       "      <td>0</td>\n",
       "      <td>0</td>\n",
       "      <td>0</td>\n",
       "      <td>0</td>\n",
       "      <td>0</td>\n",
       "    </tr>\n",
       "  </tbody>\n",
       "</table>\n",
       "</div>"
      ],
      "text/plain": [
       "       city_development_index  experience  last_new_job  training_hours  \\\n",
       "6206                    0.896   -0.650472      1.625735       -0.521249   \n",
       "1931                    0.899   -1.287492     -0.760990        1.482543   \n",
       "1023                    0.624   -1.128237     -0.760990       -0.256284   \n",
       "2843                    0.884   -0.172707      1.625735        1.250699   \n",
       "10360                   0.939   -0.491217     -0.760990       -0.570929   \n",
       "\n",
       "       education_level_Graduate  education_level_Masters  \\\n",
       "6206                          1                        0   \n",
       "1931                          1                        0   \n",
       "1023                          1                        0   \n",
       "2843                          0                        1   \n",
       "10360                         1                        0   \n",
       "\n",
       "       education_level_Primary School  education_level_High School  \\\n",
       "6206                                0                            0   \n",
       "1931                                0                            0   \n",
       "1023                                0                            0   \n",
       "2843                                0                            0   \n",
       "10360                               0                            0   \n",
       "\n",
       "       education_level_Phd  relevent_experience_Has relevent experience  \\\n",
       "6206                     0                                            1   \n",
       "1931                     0                                            1   \n",
       "1023                     0                                            1   \n",
       "2843                     0                                            1   \n",
       "10360                    0                                            1   \n",
       "\n",
       "       relevent_experience_No relevent experience  gender_Male  gender_Other  \\\n",
       "6206                                            0            1             0   \n",
       "1931                                            0            1             0   \n",
       "1023                                            0            1             0   \n",
       "2843                                            0            0             1   \n",
       "10360                                           0            1             0   \n",
       "\n",
       "       gender_Female  company_type_Pvt Ltd  company_type_Early Stage Startup  \\\n",
       "6206               0                     1                                 0   \n",
       "1931               0                     1                                 0   \n",
       "1023               0                     1                                 0   \n",
       "2843               0                     1                                 0   \n",
       "10360              0                     1                                 0   \n",
       "\n",
       "       company_type_Funded Startup  company_type_NGO  \\\n",
       "6206                             0                 0   \n",
       "1931                             0                 0   \n",
       "1023                             0                 0   \n",
       "2843                             0                 0   \n",
       "10360                            0                 0   \n",
       "\n",
       "       company_type_Public Sector  company_type_Other  \n",
       "6206                            0                   0  \n",
       "1931                            0                   0  \n",
       "1023                            0                   0  \n",
       "2843                            0                   0  \n",
       "10360                           0                   0  "
      ]
     },
     "execution_count": 32,
     "metadata": {},
     "output_type": "execute_result"
    }
   ],
   "source": [
    "data_1.head(5)"
   ]
  },
  {
   "cell_type": "code",
   "execution_count": 33,
   "id": "676a59fb-2cd9-471c-bfe9-3bbee94c307d",
   "metadata": {},
   "outputs": [
    {
     "data": {
      "text/plain": [
       "Index(['city_development_index', 'experience', 'last_new_job',\n",
       "       'training_hours', 'education_level_Graduate', 'education_level_Masters',\n",
       "       'education_level_Primary School', 'education_level_High School',\n",
       "       'education_level_Phd', 'relevent_experience_Has relevent experience',\n",
       "       'relevent_experience_No relevent experience', 'gender_Male',\n",
       "       'gender_Other', 'gender_Female', 'company_type_Pvt Ltd',\n",
       "       'company_type_Early Stage Startup', 'company_type_Funded Startup',\n",
       "       'company_type_NGO', 'company_type_Public Sector', 'company_type_Other'],\n",
       "      dtype='object')"
      ]
     },
     "execution_count": 33,
     "metadata": {},
     "output_type": "execute_result"
    }
   ],
   "source": [
    "data_1.columns"
   ]
  },
  {
   "cell_type": "code",
   "execution_count": 34,
   "id": "fe93dc09-3758-49db-a1b9-3a2fb406cece",
   "metadata": {},
   "outputs": [],
   "source": [
    "from sklearn.tree import DecisionTreeClassifier\n",
    "from sklearn.model_selection import GridSearchCV\n",
    "from sklearn import tree"
   ]
  },
  {
   "cell_type": "code",
   "execution_count": 35,
   "id": "e3d08fe3-7ef2-42b1-9c02-a035faeca13f",
   "metadata": {},
   "outputs": [],
   "source": [
    "from sklearn.ensemble import RandomForestClassifier"
   ]
  },
  {
   "cell_type": "code",
   "execution_count": 44,
   "id": "0d4f004d-a1b2-40fd-be58-27358d1d26ce",
   "metadata": {},
   "outputs": [],
   "source": [
    "grid_forestrest = RandomForestClassifier()\n",
    "params = {'max_depth': [8, 6, 5, 4], 'n_estimators':[47, 46, 45, 44]}\n",
    "grid_forest = GridSearchCV(grid_forestrest, params).fit(data_1, y_train)"
   ]
  },
  {
   "cell_type": "code",
   "execution_count": 45,
   "id": "01d327d3-a4d0-44ea-9a27-7d1812de7a06",
   "metadata": {},
   "outputs": [
    {
     "data": {
      "text/plain": [
       "RandomForestClassifier(max_depth=8, n_estimators=45)"
      ]
     },
     "execution_count": 45,
     "metadata": {},
     "output_type": "execute_result"
    }
   ],
   "source": [
    "grid_forest.best_estimator_"
   ]
  },
  {
   "cell_type": "code",
   "execution_count": 46,
   "id": "5bc5bafc-1695-401e-b5f7-191835aedc63",
   "metadata": {},
   "outputs": [],
   "source": [
    "best_forest = RandomForestClassifier(max_depth=8, n_estimators=45).fit(data_1, y_train)"
   ]
  },
  {
   "cell_type": "code",
   "execution_count": 47,
   "id": "1666533e-de71-4bab-b9b6-e39963ddab4b",
   "metadata": {},
   "outputs": [
    {
     "data": {
      "text/html": [
       "<div>\n",
       "<style scoped>\n",
       "    .dataframe tbody tr th:only-of-type {\n",
       "        vertical-align: middle;\n",
       "    }\n",
       "\n",
       "    .dataframe tbody tr th {\n",
       "        vertical-align: top;\n",
       "    }\n",
       "\n",
       "    .dataframe thead th {\n",
       "        text-align: right;\n",
       "    }\n",
       "</style>\n",
       "<table border=\"1\" class=\"dataframe\">\n",
       "  <thead>\n",
       "    <tr style=\"text-align: right;\">\n",
       "      <th></th>\n",
       "      <th>0</th>\n",
       "    </tr>\n",
       "  </thead>\n",
       "  <tbody>\n",
       "    <tr>\n",
       "      <th>city_development_index</th>\n",
       "      <td>0.639767</td>\n",
       "    </tr>\n",
       "    <tr>\n",
       "      <th>experience</th>\n",
       "      <td>0.103422</td>\n",
       "    </tr>\n",
       "    <tr>\n",
       "      <th>last_new_job</th>\n",
       "      <td>0.044554</td>\n",
       "    </tr>\n",
       "    <tr>\n",
       "      <th>training_hours</th>\n",
       "      <td>0.084414</td>\n",
       "    </tr>\n",
       "    <tr>\n",
       "      <th>education_level_Graduate</th>\n",
       "      <td>0.012793</td>\n",
       "    </tr>\n",
       "    <tr>\n",
       "      <th>education_level_Masters</th>\n",
       "      <td>0.008382</td>\n",
       "    </tr>\n",
       "    <tr>\n",
       "      <th>education_level_Primary School</th>\n",
       "      <td>0.002153</td>\n",
       "    </tr>\n",
       "    <tr>\n",
       "      <th>education_level_High School</th>\n",
       "      <td>0.008761</td>\n",
       "    </tr>\n",
       "    <tr>\n",
       "      <th>education_level_Phd</th>\n",
       "      <td>0.003918</td>\n",
       "    </tr>\n",
       "    <tr>\n",
       "      <th>relevent_experience_Has relevent experience</th>\n",
       "      <td>0.011197</td>\n",
       "    </tr>\n",
       "    <tr>\n",
       "      <th>relevent_experience_No relevent experience</th>\n",
       "      <td>0.010182</td>\n",
       "    </tr>\n",
       "    <tr>\n",
       "      <th>gender_Male</th>\n",
       "      <td>0.009671</td>\n",
       "    </tr>\n",
       "    <tr>\n",
       "      <th>gender_Other</th>\n",
       "      <td>0.003228</td>\n",
       "    </tr>\n",
       "    <tr>\n",
       "      <th>gender_Female</th>\n",
       "      <td>0.011744</td>\n",
       "    </tr>\n",
       "    <tr>\n",
       "      <th>company_type_Pvt Ltd</th>\n",
       "      <td>0.010569</td>\n",
       "    </tr>\n",
       "    <tr>\n",
       "      <th>company_type_Early Stage Startup</th>\n",
       "      <td>0.008176</td>\n",
       "    </tr>\n",
       "    <tr>\n",
       "      <th>company_type_Funded Startup</th>\n",
       "      <td>0.005949</td>\n",
       "    </tr>\n",
       "    <tr>\n",
       "      <th>company_type_NGO</th>\n",
       "      <td>0.007311</td>\n",
       "    </tr>\n",
       "    <tr>\n",
       "      <th>company_type_Public Sector</th>\n",
       "      <td>0.010534</td>\n",
       "    </tr>\n",
       "    <tr>\n",
       "      <th>company_type_Other</th>\n",
       "      <td>0.003276</td>\n",
       "    </tr>\n",
       "  </tbody>\n",
       "</table>\n",
       "</div>"
      ],
      "text/plain": [
       "                                                    0\n",
       "city_development_index                       0.639767\n",
       "experience                                   0.103422\n",
       "last_new_job                                 0.044554\n",
       "training_hours                               0.084414\n",
       "education_level_Graduate                     0.012793\n",
       "education_level_Masters                      0.008382\n",
       "education_level_Primary School               0.002153\n",
       "education_level_High School                  0.008761\n",
       "education_level_Phd                          0.003918\n",
       "relevent_experience_Has relevent experience  0.011197\n",
       "relevent_experience_No relevent experience   0.010182\n",
       "gender_Male                                  0.009671\n",
       "gender_Other                                 0.003228\n",
       "gender_Female                                0.011744\n",
       "company_type_Pvt Ltd                         0.010569\n",
       "company_type_Early Stage Startup             0.008176\n",
       "company_type_Funded Startup                  0.005949\n",
       "company_type_NGO                             0.007311\n",
       "company_type_Public Sector                   0.010534\n",
       "company_type_Other                           0.003276"
      ]
     },
     "execution_count": 47,
     "metadata": {},
     "output_type": "execute_result"
    }
   ],
   "source": [
    "pd.DataFrame([best_forest.feature_importances_], columns = best_forest.feature_names_in_).T"
   ]
  },
  {
   "cell_type": "code",
   "execution_count": 48,
   "id": "b85c6ff8-11ca-4a7c-80a9-5497dce47973",
   "metadata": {},
   "outputs": [],
   "source": [
    "pred_y = best_forest.predict(data_1)"
   ]
  },
  {
   "cell_type": "code",
   "execution_count": 49,
   "id": "08e06175-211c-4c9b-83df-bc6be7146967",
   "metadata": {},
   "outputs": [
    {
     "data": {
      "text/plain": [
       "array([0., 0., 1., ..., 0., 0., 0.])"
      ]
     },
     "execution_count": 49,
     "metadata": {},
     "output_type": "execute_result"
    }
   ],
   "source": [
    "pred_y"
   ]
  },
  {
   "cell_type": "code",
   "execution_count": 50,
   "id": "1d31f17f-0da2-4f29-a845-a8112a5324e7",
   "metadata": {},
   "outputs": [
    {
     "data": {
      "text/plain": [
       "0.7047219664222291"
      ]
     },
     "execution_count": 50,
     "metadata": {},
     "output_type": "execute_result"
    }
   ],
   "source": [
    "metrics.roc_auc_score(y_train, pred_y)"
   ]
  },
  {
   "cell_type": "code",
   "execution_count": 51,
   "id": "63a3fd02-a0ca-47ff-a636-0adbb5f06391",
   "metadata": {},
   "outputs": [],
   "source": [
    "from sklearn.metrics import roc_auc_score"
   ]
  },
  {
   "cell_type": "code",
   "execution_count": 52,
   "id": "ba850fd4-5b5c-4dbc-a9dd-c31d019fb49c",
   "metadata": {},
   "outputs": [
    {
     "data": {
      "text/plain": [
       "0.8819616336633663"
      ]
     },
     "execution_count": 52,
     "metadata": {},
     "output_type": "execute_result"
    }
   ],
   "source": [
    "metrics.accuracy_score(y_train, pred_y)"
   ]
  },
  {
   "cell_type": "code",
   "execution_count": 53,
   "id": "49af557f-50bc-492e-9e9a-427b88fe2e71",
   "metadata": {},
   "outputs": [],
   "source": [
    "test_2 = pipeline_gilda.transform(X_test)"
   ]
  },
  {
   "cell_type": "code",
   "execution_count": 54,
   "id": "08e31d64-053f-44a5-8f78-893f23e4686d",
   "metadata": {},
   "outputs": [],
   "source": [
    "pred_y_test = best_forest.predict(test_2)"
   ]
  },
  {
   "cell_type": "code",
   "execution_count": 55,
   "id": "1e02c6eb-be2b-4b9b-b2cf-1bddd4abfb94",
   "metadata": {},
   "outputs": [
    {
     "data": {
      "text/plain": [
       "0.6692584020444573"
      ]
     },
     "execution_count": 55,
     "metadata": {},
     "output_type": "execute_result"
    }
   ],
   "source": [
    "metrics.roc_auc_score(y_test, pred_y_test)"
   ]
  },
  {
   "cell_type": "code",
   "execution_count": 56,
   "id": "ce0cd5aa-412c-46d0-9de5-c9a3343335c5",
   "metadata": {},
   "outputs": [],
   "source": [
    "df_test_copy = df_test.copy(deep=False)"
   ]
  },
  {
   "cell_type": "code",
   "execution_count": 57,
   "id": "0bcedf83-a558-49c9-951c-5a30419b73eb",
   "metadata": {},
   "outputs": [],
   "source": [
    "prediccion = df_test_copy.copy(deep=False)"
   ]
  },
  {
   "cell_type": "code",
   "execution_count": 58,
   "id": "1e3f980e-44a7-458c-bea0-e9818f0d7fc9",
   "metadata": {},
   "outputs": [],
   "source": [
    "prediccion.drop(['city', 'city_development_index', 'gender',\n",
    "       'relevent_experience', 'education_level', 'experience', 'company_size', 'company_type',\n",
    "       'last_new_job', 'training_hours'],axis=1, inplace=True)"
   ]
  },
  {
   "cell_type": "code",
   "execution_count": 59,
   "id": "e912177d-1cd7-4e6d-ac43-7aeec154299d",
   "metadata": {},
   "outputs": [],
   "source": [
    "pred_y_test = best_forest.predict_proba(test_1)"
   ]
  },
  {
   "cell_type": "code",
   "execution_count": 60,
   "id": "6f90c116-cc25-4e05-8c06-000eb8e807ba",
   "metadata": {},
   "outputs": [
    {
     "data": {
      "text/plain": [
       "array([0., 0., 0., ..., 0., 0., 0.])"
      ]
     },
     "execution_count": 60,
     "metadata": {},
     "output_type": "execute_result"
    }
   ],
   "source": [
    " best_forest.predict(test_1)"
   ]
  },
  {
   "cell_type": "code",
   "execution_count": 61,
   "id": "1bac311e-cca7-4ddf-b65a-e57590096d45",
   "metadata": {},
   "outputs": [
    {
     "data": {
      "text/plain": [
       "array([[0.8611586 , 0.1388414 ],\n",
       "       [0.91844615, 0.08155385],\n",
       "       [0.82736673, 0.17263327],\n",
       "       ...,\n",
       "       [0.91032447, 0.08967553],\n",
       "       [0.90941085, 0.09058915],\n",
       "       [0.87835145, 0.12164855]])"
      ]
     },
     "execution_count": 61,
     "metadata": {},
     "output_type": "execute_result"
    }
   ],
   "source": [
    "pred_y_test[:-1]"
   ]
  },
  {
   "cell_type": "code",
   "execution_count": 62,
   "id": "100e1849-23d0-41e3-b6ee-93bbe90eaf44",
   "metadata": {},
   "outputs": [],
   "source": [
    "datos=[]\n",
    "for x in pred_y_test:\n",
    "    datos.append(x[1])"
   ]
  },
  {
   "cell_type": "code",
   "execution_count": 63,
   "id": "e419f84b-c376-4a62-93d9-1d80e4c2a82c",
   "metadata": {},
   "outputs": [],
   "source": [
    "target = pd.DataFrame(datos)"
   ]
  },
  {
   "cell_type": "code",
   "execution_count": 64,
   "id": "60e34917-a6ea-456b-a454-44b463a31828",
   "metadata": {},
   "outputs": [],
   "source": [
    "prediccion['target'] = target"
   ]
  },
  {
   "cell_type": "code",
   "execution_count": 65,
   "id": "1a76926a-908d-4344-802b-c82b34c60fc7",
   "metadata": {},
   "outputs": [
    {
     "data": {
      "text/html": [
       "<div>\n",
       "<style scoped>\n",
       "    .dataframe tbody tr th:only-of-type {\n",
       "        vertical-align: middle;\n",
       "    }\n",
       "\n",
       "    .dataframe tbody tr th {\n",
       "        vertical-align: top;\n",
       "    }\n",
       "\n",
       "    .dataframe thead th {\n",
       "        text-align: right;\n",
       "    }\n",
       "</style>\n",
       "<table border=\"1\" class=\"dataframe\">\n",
       "  <thead>\n",
       "    <tr style=\"text-align: right;\">\n",
       "      <th></th>\n",
       "      <th>enrollee_id</th>\n",
       "      <th>enrolled_university</th>\n",
       "      <th>major_discipline</th>\n",
       "      <th>target</th>\n",
       "    </tr>\n",
       "  </thead>\n",
       "  <tbody>\n",
       "    <tr>\n",
       "      <th>0</th>\n",
       "      <td>23603</td>\n",
       "      <td>Full time course</td>\n",
       "      <td>STEM</td>\n",
       "      <td>0.138841</td>\n",
       "    </tr>\n",
       "    <tr>\n",
       "      <th>1</th>\n",
       "      <td>22499</td>\n",
       "      <td>Full time course</td>\n",
       "      <td>NaN</td>\n",
       "      <td>0.081554</td>\n",
       "    </tr>\n",
       "    <tr>\n",
       "      <th>2</th>\n",
       "      <td>10465</td>\n",
       "      <td>no_enrollment</td>\n",
       "      <td>STEM</td>\n",
       "      <td>0.172633</td>\n",
       "    </tr>\n",
       "    <tr>\n",
       "      <th>3</th>\n",
       "      <td>8293</td>\n",
       "      <td>no_enrollment</td>\n",
       "      <td>STEM</td>\n",
       "      <td>0.110651</td>\n",
       "    </tr>\n",
       "    <tr>\n",
       "      <th>4</th>\n",
       "      <td>4246</td>\n",
       "      <td>no_enrollment</td>\n",
       "      <td>STEM</td>\n",
       "      <td>0.107423</td>\n",
       "    </tr>\n",
       "    <tr>\n",
       "      <th>...</th>\n",
       "      <td>...</td>\n",
       "      <td>...</td>\n",
       "      <td>...</td>\n",
       "      <td>...</td>\n",
       "    </tr>\n",
       "    <tr>\n",
       "      <th>3827</th>\n",
       "      <td>8880</td>\n",
       "      <td>Part time course</td>\n",
       "      <td>Humanities</td>\n",
       "      <td>0.137411</td>\n",
       "    </tr>\n",
       "    <tr>\n",
       "      <th>3828</th>\n",
       "      <td>7886</td>\n",
       "      <td>no_enrollment</td>\n",
       "      <td>STEM</td>\n",
       "      <td>0.089676</td>\n",
       "    </tr>\n",
       "    <tr>\n",
       "      <th>3829</th>\n",
       "      <td>12279</td>\n",
       "      <td>no_enrollment</td>\n",
       "      <td>STEM</td>\n",
       "      <td>0.090589</td>\n",
       "    </tr>\n",
       "    <tr>\n",
       "      <th>3830</th>\n",
       "      <td>5326</td>\n",
       "      <td>no_enrollment</td>\n",
       "      <td>NaN</td>\n",
       "      <td>0.121649</td>\n",
       "    </tr>\n",
       "    <tr>\n",
       "      <th>3831</th>\n",
       "      <td>4017</td>\n",
       "      <td>no_enrollment</td>\n",
       "      <td>Arts</td>\n",
       "      <td>0.100408</td>\n",
       "    </tr>\n",
       "  </tbody>\n",
       "</table>\n",
       "<p>3832 rows × 4 columns</p>\n",
       "</div>"
      ],
      "text/plain": [
       "      enrollee_id enrolled_university major_discipline    target\n",
       "0           23603    Full time course             STEM  0.138841\n",
       "1           22499    Full time course              NaN  0.081554\n",
       "2           10465       no_enrollment             STEM  0.172633\n",
       "3            8293       no_enrollment             STEM  0.110651\n",
       "4            4246       no_enrollment             STEM  0.107423\n",
       "...           ...                 ...              ...       ...\n",
       "3827         8880    Part time course       Humanities  0.137411\n",
       "3828         7886       no_enrollment             STEM  0.089676\n",
       "3829        12279       no_enrollment             STEM  0.090589\n",
       "3830         5326       no_enrollment              NaN  0.121649\n",
       "3831         4017       no_enrollment             Arts  0.100408\n",
       "\n",
       "[3832 rows x 4 columns]"
      ]
     },
     "execution_count": 65,
     "metadata": {},
     "output_type": "execute_result"
    }
   ],
   "source": [
    "prediccion"
   ]
  },
  {
   "cell_type": "code",
   "execution_count": 66,
   "id": "ce741d3b-a1d5-46a6-af7e-774e31abafb8",
   "metadata": {},
   "outputs": [],
   "source": [
    "prediccion.drop(['enrolled_university', 'major_discipline'],axis=1, inplace=True)"
   ]
  },
  {
   "cell_type": "code",
   "execution_count": 67,
   "id": "4cda2ee6-2bf4-4f0c-aad7-82f767ee434e",
   "metadata": {},
   "outputs": [
    {
     "data": {
      "text/html": [
       "<div>\n",
       "<style scoped>\n",
       "    .dataframe tbody tr th:only-of-type {\n",
       "        vertical-align: middle;\n",
       "    }\n",
       "\n",
       "    .dataframe tbody tr th {\n",
       "        vertical-align: top;\n",
       "    }\n",
       "\n",
       "    .dataframe thead th {\n",
       "        text-align: right;\n",
       "    }\n",
       "</style>\n",
       "<table border=\"1\" class=\"dataframe\">\n",
       "  <thead>\n",
       "    <tr style=\"text-align: right;\">\n",
       "      <th></th>\n",
       "      <th>enrollee_id</th>\n",
       "      <th>target</th>\n",
       "    </tr>\n",
       "  </thead>\n",
       "  <tbody>\n",
       "    <tr>\n",
       "      <th>0</th>\n",
       "      <td>23603</td>\n",
       "      <td>0.138841</td>\n",
       "    </tr>\n",
       "    <tr>\n",
       "      <th>1</th>\n",
       "      <td>22499</td>\n",
       "      <td>0.081554</td>\n",
       "    </tr>\n",
       "    <tr>\n",
       "      <th>2</th>\n",
       "      <td>10465</td>\n",
       "      <td>0.172633</td>\n",
       "    </tr>\n",
       "    <tr>\n",
       "      <th>3</th>\n",
       "      <td>8293</td>\n",
       "      <td>0.110651</td>\n",
       "    </tr>\n",
       "    <tr>\n",
       "      <th>4</th>\n",
       "      <td>4246</td>\n",
       "      <td>0.107423</td>\n",
       "    </tr>\n",
       "    <tr>\n",
       "      <th>...</th>\n",
       "      <td>...</td>\n",
       "      <td>...</td>\n",
       "    </tr>\n",
       "    <tr>\n",
       "      <th>3827</th>\n",
       "      <td>8880</td>\n",
       "      <td>0.137411</td>\n",
       "    </tr>\n",
       "    <tr>\n",
       "      <th>3828</th>\n",
       "      <td>7886</td>\n",
       "      <td>0.089676</td>\n",
       "    </tr>\n",
       "    <tr>\n",
       "      <th>3829</th>\n",
       "      <td>12279</td>\n",
       "      <td>0.090589</td>\n",
       "    </tr>\n",
       "    <tr>\n",
       "      <th>3830</th>\n",
       "      <td>5326</td>\n",
       "      <td>0.121649</td>\n",
       "    </tr>\n",
       "    <tr>\n",
       "      <th>3831</th>\n",
       "      <td>4017</td>\n",
       "      <td>0.100408</td>\n",
       "    </tr>\n",
       "  </tbody>\n",
       "</table>\n",
       "<p>3832 rows × 2 columns</p>\n",
       "</div>"
      ],
      "text/plain": [
       "      enrollee_id    target\n",
       "0           23603  0.138841\n",
       "1           22499  0.081554\n",
       "2           10465  0.172633\n",
       "3            8293  0.110651\n",
       "4            4246  0.107423\n",
       "...           ...       ...\n",
       "3827         8880  0.137411\n",
       "3828         7886  0.089676\n",
       "3829        12279  0.090589\n",
       "3830         5326  0.121649\n",
       "3831         4017  0.100408\n",
       "\n",
       "[3832 rows x 2 columns]"
      ]
     },
     "execution_count": 67,
     "metadata": {},
     "output_type": "execute_result"
    }
   ],
   "source": [
    "prediccion"
   ]
  },
  {
   "cell_type": "code",
   "execution_count": 68,
   "id": "8c34078a-8ff7-4f4a-a78b-145e4ddf6b3e",
   "metadata": {},
   "outputs": [],
   "source": [
    "prediccion.to_csv('prediccion4_gilda.csv', index=False)"
   ]
  },
  {
   "cell_type": "code",
   "execution_count": null,
   "id": "c528ab26-774a-4cbb-8040-4f9568392f88",
   "metadata": {},
   "outputs": [],
   "source": []
  }
 ],
 "metadata": {
  "kernelspec": {
   "display_name": "Python 3 (ipykernel)",
   "language": "python",
   "name": "python3"
  },
  "language_info": {
   "codemirror_mode": {
    "name": "ipython",
    "version": 3
   },
   "file_extension": ".py",
   "mimetype": "text/x-python",
   "name": "python",
   "nbconvert_exporter": "python",
   "pygments_lexer": "ipython3",
   "version": "3.9.12"
  }
 },
 "nbformat": 4,
 "nbformat_minor": 5
}
