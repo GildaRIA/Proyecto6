{
 "cells": [
  {
   "cell_type": "code",
   "execution_count": 4,
   "id": "da56bcca-c2bf-4826-a785-5ceb0d38fe80",
   "metadata": {},
   "outputs": [],
   "source": [
    "import pandas as pd\n",
    "import numpy as np\n",
    "import matplotlib.pyplot as plt"
   ]
  },
  {
   "cell_type": "code",
   "execution_count": 5,
   "id": "f6b72270-36e1-47b1-88ad-b794f2f6d941",
   "metadata": {},
   "outputs": [],
   "source": [
    "df_train = pd.read_csv('z_train.csv')\n",
    "df_test = pd.read_csv('z_test.csv')"
   ]
  },
  {
   "cell_type": "code",
   "execution_count": 6,
   "id": "7b63d2d6-3408-4f91-8941-347ca9c0c136",
   "metadata": {},
   "outputs": [],
   "source": [
    "df_train_copy = df_train.copy()\n",
    "df_test_copy = df_test.copy()"
   ]
  },
  {
   "cell_type": "code",
   "execution_count": 7,
   "id": "8520d3c1-c3ec-41e5-953a-debd4408ce89",
   "metadata": {},
   "outputs": [
    {
     "data": {
      "text/plain": [
       "(3824, 14)"
      ]
     },
     "execution_count": 7,
     "metadata": {},
     "output_type": "execute_result"
    }
   ],
   "source": [
    "df_train_copy[df_train_copy.target==1].shape"
   ]
  },
  {
   "cell_type": "code",
   "execution_count": 8,
   "id": "4cc727e6-d72e-48fc-b585-7a28f2d52d96",
   "metadata": {
    "jupyter": {
     "source_hidden": true
    },
    "tags": []
   },
   "outputs": [
    {
     "data": {
      "text/plain": [
       "(11502, 14)"
      ]
     },
     "execution_count": 8,
     "metadata": {},
     "output_type": "execute_result"
    }
   ],
   "source": [
    "df_train_copy[df_train_copy.target==0].shape"
   ]
  },
  {
   "cell_type": "code",
   "execution_count": 9,
   "id": "0670d535-ea3f-4333-abd9-4dcc471930ce",
   "metadata": {},
   "outputs": [
    {
     "data": {
      "text/plain": [
       "Index(['enrollee_id', 'city', 'city_development_index', 'gender',\n",
       "       'relevent_experience', 'enrolled_university', 'education_level',\n",
       "       'major_discipline', 'experience', 'company_size', 'company_type',\n",
       "       'last_new_job', 'training_hours', 'target'],\n",
       "      dtype='object')"
      ]
     },
     "execution_count": 9,
     "metadata": {},
     "output_type": "execute_result"
    }
   ],
   "source": [
    "df_train_copy.columns"
   ]
  },
  {
   "cell_type": "code",
   "execution_count": 10,
   "id": "2c9be408-1fb1-49e4-b6a7-8300d30991d2",
   "metadata": {},
   "outputs": [],
   "source": [
    "df_test_copy.drop(['enrollee_id', 'city','company_size', 'enrolled_university', 'major_discipline'], axis=1 , inplace = True)"
   ]
  },
  {
   "cell_type": "code",
   "execution_count": 11,
   "id": "0d806fdf-2ca1-4bfa-b31a-7834d3c5678a",
   "metadata": {},
   "outputs": [],
   "source": [
    "df_train_copy.drop(['enrollee_id', 'city','company_size', 'enrolled_university', 'major_discipline'], axis=1 , inplace = True)\n"
   ]
  },
  {
   "cell_type": "code",
   "execution_count": 12,
   "id": "91eaa090-9f4d-4320-b2ca-0e36b96fad15",
   "metadata": {},
   "outputs": [],
   "source": [
    "df_train_copy.dropna(inplace=True)"
   ]
  },
  {
   "cell_type": "code",
   "execution_count": 13,
   "id": "b245b241-ae79-4c52-b164-f1a58c4fa00f",
   "metadata": {},
   "outputs": [
    {
     "data": {
      "text/plain": [
       "(8081, 9)"
      ]
     },
     "execution_count": 13,
     "metadata": {},
     "output_type": "execute_result"
    }
   ],
   "source": [
    "df_train_copy.shape"
   ]
  },
  {
   "cell_type": "code",
   "execution_count": 14,
   "id": "505b7c21-9519-4c10-a752-7764a9a01a9a",
   "metadata": {},
   "outputs": [
    {
     "data": {
      "text/plain": [
       "(15326, 14)"
      ]
     },
     "execution_count": 14,
     "metadata": {},
     "output_type": "execute_result"
    }
   ],
   "source": [
    "df_train.shape"
   ]
  },
  {
   "cell_type": "code",
   "execution_count": 15,
   "id": "99f9447d-f10c-40ae-8f4d-85c92ab5fda7",
   "metadata": {},
   "outputs": [],
   "source": [
    "def cambiar_mayor(num):\n",
    "    num= str(num)\n",
    "    if '>' in num:\n",
    "        num = num.replace('>','')\n",
    "        return num\n",
    "    \n",
    "    if '<' in num:\n",
    "        num = num.replace('<1','0')\n",
    "        return num\n",
    "    \n",
    "    if 'nan' in num:\n",
    "        num = num.replace('nan','')\n",
    "        return num\n",
    "    \n",
    "    else:\n",
    "        return num"
   ]
  },
  {
   "cell_type": "code",
   "execution_count": 16,
   "id": "5ab88ab7-9d7e-4a20-a07d-0fdbd9d6813b",
   "metadata": {},
   "outputs": [],
   "source": [
    "df_train_copy.experience = df_train_copy.experience.apply(cambiar_mayor)"
   ]
  },
  {
   "cell_type": "code",
   "execution_count": 17,
   "id": "6180200c-55d4-4a1d-bc55-721dc20b653a",
   "metadata": {},
   "outputs": [],
   "source": [
    "df_train_copy['experience'] = pd.to_numeric(df_train_copy.experience)"
   ]
  },
  {
   "cell_type": "code",
   "execution_count": 18,
   "id": "d14feec3-b295-4262-9567-0b6374654dde",
   "metadata": {},
   "outputs": [],
   "source": [
    "df_test_copy.experience = df_train_copy.experience.apply(cambiar_mayor)\n",
    "df_test_copy['experience'] = pd.to_numeric(df_train_copy.experience)"
   ]
  },
  {
   "cell_type": "code",
   "execution_count": 19,
   "id": "0e4e4fd7-163b-42d5-8cb2-5a3a66f17278",
   "metadata": {},
   "outputs": [],
   "source": [
    "def cambiar_num(num):\n",
    "    num= str(num)\n",
    "    if '>4' in num:\n",
    "        num = num.replace('>4','5')\n",
    "        return num\n",
    "    \n",
    "    if 'never' in num:\n",
    "        num = num.replace('never','0')\n",
    "        return num\n",
    "    \n",
    "    if 'nan' in num:\n",
    "        num = num.replace('nan','')\n",
    "        return num\n",
    "    \n",
    "    else:\n",
    "        return num"
   ]
  },
  {
   "cell_type": "code",
   "execution_count": 20,
   "id": "f8486566-d94b-409c-8cfc-6536baa514b8",
   "metadata": {},
   "outputs": [],
   "source": [
    "df_train_copy.last_new_job = df_train_copy.last_new_job.apply(cambiar_num)"
   ]
  },
  {
   "cell_type": "code",
   "execution_count": 21,
   "id": "b6df3b54-eed5-4f8b-b71f-3953cb5c346f",
   "metadata": {},
   "outputs": [],
   "source": [
    "df_train_copy['last_new_job'] = pd.to_numeric(df_train_copy.last_new_job)"
   ]
  },
  {
   "cell_type": "code",
   "execution_count": 22,
   "id": "6b5d2bd1-c87b-4400-a40f-b2f5c5919824",
   "metadata": {},
   "outputs": [],
   "source": [
    "df_test_copy.last_new_job = df_train_copy.last_new_job.apply(cambiar_num)\n",
    "df_test_copy['last_new_job'] = pd.to_numeric(df_train_copy.last_new_job)"
   ]
  },
  {
   "cell_type": "code",
   "execution_count": 23,
   "id": "7d5bd53d-996b-4719-9907-09e7a87cf724",
   "metadata": {},
   "outputs": [
    {
     "data": {
      "text/plain": [
       "Index(['city_development_index', 'gender', 'relevent_experience',\n",
       "       'education_level', 'experience', 'company_type', 'last_new_job',\n",
       "       'training_hours', 'target'],\n",
       "      dtype='object')"
      ]
     },
     "execution_count": 23,
     "metadata": {},
     "output_type": "execute_result"
    }
   ],
   "source": [
    "df_train_copy.columns"
   ]
  },
  {
   "cell_type": "code",
   "execution_count": 24,
   "id": "7fc6324a-788b-4035-a27a-68a058c1fe0f",
   "metadata": {
    "tags": []
   },
   "outputs": [
    {
     "data": {
      "text/plain": [
       "20    1680\n",
       "5      542\n",
       "6      504\n",
       "10     490\n",
       "9      464\n",
       "4      461\n",
       "7      443\n",
       "3      426\n",
       "15     357\n",
       "8      350\n",
       "11     340\n",
       "2      315\n",
       "14     305\n",
       "16     268\n",
       "12     235\n",
       "13     197\n",
       "17     178\n",
       "19     157\n",
       "18     142\n",
       "1      131\n",
       "0       96\n",
       "Name: experience, dtype: int64"
      ]
     },
     "execution_count": 24,
     "metadata": {},
     "output_type": "execute_result"
    }
   ],
   "source": [
    "df_train_copy.experience.value_counts()"
   ]
  },
  {
   "cell_type": "code",
   "execution_count": 25,
   "id": "b50a5da1-f135-4b7f-8a05-9b816ba24d5c",
   "metadata": {},
   "outputs": [
    {
     "name": "stdout",
     "output_type": "stream",
     "text": [
      "Requirement already satisfied: feature_engine in c:\\anaconda\\lib\\site-packages (1.5.2)\n",
      "Requirement already satisfied: scipy>=1.4.1 in c:\\anaconda\\lib\\site-packages (from feature_engine) (1.7.3)\n",
      "Requirement already satisfied: scikit-learn>=1.0.0 in c:\\anaconda\\lib\\site-packages (from feature_engine) (1.0.2)\n",
      "Requirement already satisfied: statsmodels>=0.11.1 in c:\\anaconda\\lib\\site-packages (from feature_engine) (0.13.2)\n",
      "Requirement already satisfied: pandas>=1.0.3 in c:\\anaconda\\lib\\site-packages (from feature_engine) (1.4.2)\n",
      "Requirement already satisfied: numpy>=1.18.2 in c:\\anaconda\\lib\\site-packages (from feature_engine) (1.21.5)\n",
      "Requirement already satisfied: pytz>=2020.1 in c:\\anaconda\\lib\\site-packages (from pandas>=1.0.3->feature_engine) (2021.3)\n",
      "Requirement already satisfied: python-dateutil>=2.8.1 in c:\\anaconda\\lib\\site-packages (from pandas>=1.0.3->feature_engine) (2.8.2)\n",
      "Requirement already satisfied: six>=1.5 in c:\\anaconda\\lib\\site-packages (from python-dateutil>=2.8.1->pandas>=1.0.3->feature_engine) (1.16.0)\n",
      "Requirement already satisfied: threadpoolctl>=2.0.0 in c:\\anaconda\\lib\\site-packages (from scikit-learn>=1.0.0->feature_engine) (2.2.0)\n",
      "Requirement already satisfied: joblib>=0.11 in c:\\anaconda\\lib\\site-packages (from scikit-learn>=1.0.0->feature_engine) (1.1.0)\n",
      "Requirement already satisfied: patsy>=0.5.2 in c:\\anaconda\\lib\\site-packages (from statsmodels>=0.11.1->feature_engine) (0.5.2)\n",
      "Requirement already satisfied: packaging>=21.3 in c:\\anaconda\\lib\\site-packages (from statsmodels>=0.11.1->feature_engine) (21.3)\n",
      "Requirement already satisfied: pyparsing!=3.0.5,>=2.0.2 in c:\\anaconda\\lib\\site-packages (from packaging>=21.3->statsmodels>=0.11.1->feature_engine) (3.0.4)\n",
      "Note: you may need to restart the kernel to use updated packages.\n"
     ]
    }
   ],
   "source": [
    "pip install feature_engine"
   ]
  },
  {
   "cell_type": "code",
   "execution_count": 26,
   "id": "d113959a-8d72-4500-9b6e-e4f332d2b529",
   "metadata": {},
   "outputs": [],
   "source": [
    "from sklearn.pipeline import Pipeline\n",
    "from sklearn.linear_model import LinearRegression, Ridge, Lasso\n",
    "from sklearn.preprocessing import RobustScaler, OrdinalEncoder\n",
    "from sklearn.model_selection import train_test_split\n",
    "from feature_engine import imputation as imp\n",
    "from feature_engine import encoding as enc\n",
    "from feature_engine.wrappers import SklearnTransformerWrapper\n",
    "from feature_engine.encoding import OneHotEncoder\n",
    "from feature_engine import imputation as mdi\n",
    "\n",
    "\n",
    "from sklearn.preprocessing import StandardScaler\n",
    "from sklearn.preprocessing import RobustScaler\n",
    "\n",
    "from feature_engine.wrappers import SklearnTransformerWrapper\n",
    "\n",
    "\n",
    "from sklearn.linear_model import LogisticRegression\n",
    "from sklearn import metrics\n",
    "\n",
    "import sklearn.metrics"
   ]
  },
  {
   "cell_type": "code",
   "execution_count": 27,
   "id": "fb91b830-e24d-4314-82d2-26c540471165",
   "metadata": {},
   "outputs": [],
   "source": [
    "X_train, X_test, y_train, y_test = train_test_split(df_train_copy.drop(columns = ['target']), df_train_copy.target, test_size = 0.2, random_state = 830)"
   ]
  },
  {
   "cell_type": "code",
   "execution_count": 28,
   "id": "3562d94c-06ba-486c-ad59-c62b3a790b46",
   "metadata": {},
   "outputs": [
    {
     "name": "stdout",
     "output_type": "stream",
     "text": [
      "<class 'pandas.core.frame.DataFrame'>\n",
      "Int64Index: 8081 entries, 1 to 15324\n",
      "Data columns (total 9 columns):\n",
      " #   Column                  Non-Null Count  Dtype  \n",
      "---  ------                  --------------  -----  \n",
      " 0   city_development_index  8081 non-null   float64\n",
      " 1   gender                  8081 non-null   object \n",
      " 2   relevent_experience     8081 non-null   object \n",
      " 3   education_level         8081 non-null   object \n",
      " 4   experience              8081 non-null   int64  \n",
      " 5   company_type            8081 non-null   object \n",
      " 6   last_new_job            8081 non-null   int64  \n",
      " 7   training_hours          8081 non-null   int64  \n",
      " 8   target                  8081 non-null   float64\n",
      "dtypes: float64(2), int64(3), object(4)\n",
      "memory usage: 889.4+ KB\n"
     ]
    }
   ],
   "source": [
    "df_train_copy.info()"
   ]
  },
  {
   "cell_type": "code",
   "execution_count": 29,
   "id": "f7a8ac22-0ccb-4e59-a47e-d767a90a3398",
   "metadata": {},
   "outputs": [
    {
     "data": {
      "text/plain": [
       "1         47\n",
       "5         24\n",
       "6         18\n",
       "7         46\n",
       "10       108\n",
       "        ... \n",
       "15317     36\n",
       "15318     23\n",
       "15320     25\n",
       "15323     44\n",
       "15324     97\n",
       "Name: training_hours, Length: 8081, dtype: int64"
      ]
     },
     "execution_count": 29,
     "metadata": {},
     "output_type": "execute_result"
    }
   ],
   "source": [
    "df_train_copy.training_hours"
   ]
  },
  {
   "cell_type": "code",
   "execution_count": 31,
   "id": "047a5ad6-0b57-4fdd-b063-9517b28615fa",
   "metadata": {},
   "outputs": [
    {
     "name": "stdout",
     "output_type": "stream",
     "text": [
      "[Pipeline] ... (step 1 of 4) Processing mean_imputation, total=   0.0s\n",
      "[Pipeline] ... (step 2 of 4) Processing mode_imputation, total=   0.0s\n",
      "[Pipeline] ........... (step 3 of 4) Processing escalar, total=   0.0s\n",
      "[Pipeline] ........... (step 4 of 4) Processing one_hot, total=   0.0s\n"
     ]
    },
    {
     "data": {
      "text/plain": [
       "Pipeline(steps=[('mean_imputation',\n",
       "                 MeanMedianImputer(variables=['experience', 'last_new_job',\n",
       "                                              'training_hours'])),\n",
       "                ('mode_imputation',\n",
       "                 CategoricalImputer(variables=['education_level',\n",
       "                                               'relevent_experience', 'gender',\n",
       "                                               'company_type'])),\n",
       "                ('escalar',\n",
       "                 SklearnTransformerWrapper(transformer=StandardScaler(),\n",
       "                                           variables=['experience',\n",
       "                                                      'last_new_job',\n",
       "                                                      'training_hours'])),\n",
       "                ('one_hot',\n",
       "                 OneHotEncoder(variables=['education_level',\n",
       "                                          'relevent_experience', 'gender',\n",
       "                                          'company_type']))],\n",
       "         verbose=True)"
      ]
     },
     "execution_count": 31,
     "metadata": {},
     "output_type": "execute_result"
    }
   ],
   "source": [
    "pipeline_gilda = Pipeline([('mean_imputation', mdi.MeanMedianImputer(imputation_method = 'median',\n",
    "                                                                             variables = ['experience', 'last_new_job','training_hours'])),\n",
    "                                   ('mode_imputation', mdi.CategoricalImputer(imputation_method = 'missing',\n",
    "                                    variables = ['education_level', 'relevent_experience','gender','company_type'])),\n",
    "                                   ('escalar', SklearnTransformerWrapper(StandardScaler(), variables=['experience', 'last_new_job','training_hours'])),\n",
    "                                   ('one_hot', enc.OneHotEncoder(variables = ['education_level', 'relevent_experience','gender','company_type'])),                         \n",
    "                                   ], verbose = True)\n",
    "pipeline_gilda.fit(X_train, y_train)"
   ]
  },
  {
   "cell_type": "code",
   "execution_count": 34,
   "id": "4e744035-7fa8-4988-9eef-037d36df5877",
   "metadata": {},
   "outputs": [],
   "source": [
    "test_1 = pipeline_gilda.transform(df_test_copy)"
   ]
  },
  {
   "cell_type": "code",
   "execution_count": 35,
   "id": "c895a465-fc8f-476f-bcf9-78f2d95e2850",
   "metadata": {
    "tags": []
   },
   "outputs": [
    {
     "data": {
      "text/plain": [
       "(3832, 20)"
      ]
     },
     "execution_count": 35,
     "metadata": {},
     "output_type": "execute_result"
    }
   ],
   "source": [
    "test_1.shape"
   ]
  },
  {
   "cell_type": "code",
   "execution_count": 36,
   "id": "28f747dc-4b7a-4f74-a856-b22bdfb91332",
   "metadata": {},
   "outputs": [],
   "source": [
    "data_1 = pipeline_gilda.transform(X_train)"
   ]
  },
  {
   "cell_type": "code",
   "execution_count": 37,
   "id": "29f0e520-7897-40fe-9830-f5173868b6a7",
   "metadata": {},
   "outputs": [
    {
     "data": {
      "text/plain": [
       "(6464, 20)"
      ]
     },
     "execution_count": 37,
     "metadata": {},
     "output_type": "execute_result"
    }
   ],
   "source": [
    "data_1.shape"
   ]
  },
  {
   "cell_type": "code",
   "execution_count": 38,
   "id": "bcfef059-8188-4a57-81da-7b0243766c49",
   "metadata": {},
   "outputs": [
    {
     "data": {
      "text/html": [
       "<div>\n",
       "<style scoped>\n",
       "    .dataframe tbody tr th:only-of-type {\n",
       "        vertical-align: middle;\n",
       "    }\n",
       "\n",
       "    .dataframe tbody tr th {\n",
       "        vertical-align: top;\n",
       "    }\n",
       "\n",
       "    .dataframe thead th {\n",
       "        text-align: right;\n",
       "    }\n",
       "</style>\n",
       "<table border=\"1\" class=\"dataframe\">\n",
       "  <thead>\n",
       "    <tr style=\"text-align: right;\">\n",
       "      <th></th>\n",
       "      <th>city_development_index</th>\n",
       "      <th>gender</th>\n",
       "      <th>relevent_experience</th>\n",
       "      <th>education_level</th>\n",
       "      <th>experience</th>\n",
       "      <th>company_type</th>\n",
       "      <th>last_new_job</th>\n",
       "      <th>training_hours</th>\n",
       "    </tr>\n",
       "  </thead>\n",
       "  <tbody>\n",
       "    <tr>\n",
       "      <th>6206</th>\n",
       "      <td>0.896</td>\n",
       "      <td>Male</td>\n",
       "      <td>Has relevent experience</td>\n",
       "      <td>Graduate</td>\n",
       "      <td>7</td>\n",
       "      <td>Pvt Ltd</td>\n",
       "      <td>5</td>\n",
       "      <td>34</td>\n",
       "    </tr>\n",
       "    <tr>\n",
       "      <th>1931</th>\n",
       "      <td>0.899</td>\n",
       "      <td>Male</td>\n",
       "      <td>Has relevent experience</td>\n",
       "      <td>Graduate</td>\n",
       "      <td>3</td>\n",
       "      <td>Pvt Ltd</td>\n",
       "      <td>1</td>\n",
       "      <td>155</td>\n",
       "    </tr>\n",
       "    <tr>\n",
       "      <th>1023</th>\n",
       "      <td>0.624</td>\n",
       "      <td>Male</td>\n",
       "      <td>Has relevent experience</td>\n",
       "      <td>Graduate</td>\n",
       "      <td>4</td>\n",
       "      <td>Pvt Ltd</td>\n",
       "      <td>1</td>\n",
       "      <td>50</td>\n",
       "    </tr>\n",
       "    <tr>\n",
       "      <th>2843</th>\n",
       "      <td>0.884</td>\n",
       "      <td>Other</td>\n",
       "      <td>Has relevent experience</td>\n",
       "      <td>Masters</td>\n",
       "      <td>10</td>\n",
       "      <td>Pvt Ltd</td>\n",
       "      <td>5</td>\n",
       "      <td>141</td>\n",
       "    </tr>\n",
       "    <tr>\n",
       "      <th>10360</th>\n",
       "      <td>0.939</td>\n",
       "      <td>Male</td>\n",
       "      <td>Has relevent experience</td>\n",
       "      <td>Graduate</td>\n",
       "      <td>8</td>\n",
       "      <td>Pvt Ltd</td>\n",
       "      <td>1</td>\n",
       "      <td>31</td>\n",
       "    </tr>\n",
       "  </tbody>\n",
       "</table>\n",
       "</div>"
      ],
      "text/plain": [
       "       city_development_index gender      relevent_experience education_level  \\\n",
       "6206                    0.896   Male  Has relevent experience        Graduate   \n",
       "1931                    0.899   Male  Has relevent experience        Graduate   \n",
       "1023                    0.624   Male  Has relevent experience        Graduate   \n",
       "2843                    0.884  Other  Has relevent experience         Masters   \n",
       "10360                   0.939   Male  Has relevent experience        Graduate   \n",
       "\n",
       "       experience company_type  last_new_job  training_hours  \n",
       "6206            7      Pvt Ltd             5              34  \n",
       "1931            3      Pvt Ltd             1             155  \n",
       "1023            4      Pvt Ltd             1              50  \n",
       "2843           10      Pvt Ltd             5             141  \n",
       "10360           8      Pvt Ltd             1              31  "
      ]
     },
     "execution_count": 38,
     "metadata": {},
     "output_type": "execute_result"
    }
   ],
   "source": [
    "X_train.head(5)"
   ]
  },
  {
   "cell_type": "code",
   "execution_count": 39,
   "id": "b131a746-b7f9-4e14-a6f3-e209602ae8c1",
   "metadata": {},
   "outputs": [
    {
     "data": {
      "text/html": [
       "<div>\n",
       "<style scoped>\n",
       "    .dataframe tbody tr th:only-of-type {\n",
       "        vertical-align: middle;\n",
       "    }\n",
       "\n",
       "    .dataframe tbody tr th {\n",
       "        vertical-align: top;\n",
       "    }\n",
       "\n",
       "    .dataframe thead th {\n",
       "        text-align: right;\n",
       "    }\n",
       "</style>\n",
       "<table border=\"1\" class=\"dataframe\">\n",
       "  <thead>\n",
       "    <tr style=\"text-align: right;\">\n",
       "      <th></th>\n",
       "      <th>city_development_index</th>\n",
       "      <th>experience</th>\n",
       "      <th>last_new_job</th>\n",
       "      <th>training_hours</th>\n",
       "      <th>education_level_Graduate</th>\n",
       "      <th>education_level_Masters</th>\n",
       "      <th>education_level_Primary School</th>\n",
       "      <th>education_level_High School</th>\n",
       "      <th>education_level_Phd</th>\n",
       "      <th>relevent_experience_Has relevent experience</th>\n",
       "      <th>relevent_experience_No relevent experience</th>\n",
       "      <th>gender_Male</th>\n",
       "      <th>gender_Other</th>\n",
       "      <th>gender_Female</th>\n",
       "      <th>company_type_Pvt Ltd</th>\n",
       "      <th>company_type_Early Stage Startup</th>\n",
       "      <th>company_type_Funded Startup</th>\n",
       "      <th>company_type_NGO</th>\n",
       "      <th>company_type_Public Sector</th>\n",
       "      <th>company_type_Other</th>\n",
       "    </tr>\n",
       "  </thead>\n",
       "  <tbody>\n",
       "    <tr>\n",
       "      <th>6206</th>\n",
       "      <td>0.896</td>\n",
       "      <td>-0.650472</td>\n",
       "      <td>1.625735</td>\n",
       "      <td>-0.521249</td>\n",
       "      <td>1</td>\n",
       "      <td>0</td>\n",
       "      <td>0</td>\n",
       "      <td>0</td>\n",
       "      <td>0</td>\n",
       "      <td>1</td>\n",
       "      <td>0</td>\n",
       "      <td>1</td>\n",
       "      <td>0</td>\n",
       "      <td>0</td>\n",
       "      <td>1</td>\n",
       "      <td>0</td>\n",
       "      <td>0</td>\n",
       "      <td>0</td>\n",
       "      <td>0</td>\n",
       "      <td>0</td>\n",
       "    </tr>\n",
       "    <tr>\n",
       "      <th>1931</th>\n",
       "      <td>0.899</td>\n",
       "      <td>-1.287492</td>\n",
       "      <td>-0.760990</td>\n",
       "      <td>1.482543</td>\n",
       "      <td>1</td>\n",
       "      <td>0</td>\n",
       "      <td>0</td>\n",
       "      <td>0</td>\n",
       "      <td>0</td>\n",
       "      <td>1</td>\n",
       "      <td>0</td>\n",
       "      <td>1</td>\n",
       "      <td>0</td>\n",
       "      <td>0</td>\n",
       "      <td>1</td>\n",
       "      <td>0</td>\n",
       "      <td>0</td>\n",
       "      <td>0</td>\n",
       "      <td>0</td>\n",
       "      <td>0</td>\n",
       "    </tr>\n",
       "    <tr>\n",
       "      <th>1023</th>\n",
       "      <td>0.624</td>\n",
       "      <td>-1.128237</td>\n",
       "      <td>-0.760990</td>\n",
       "      <td>-0.256284</td>\n",
       "      <td>1</td>\n",
       "      <td>0</td>\n",
       "      <td>0</td>\n",
       "      <td>0</td>\n",
       "      <td>0</td>\n",
       "      <td>1</td>\n",
       "      <td>0</td>\n",
       "      <td>1</td>\n",
       "      <td>0</td>\n",
       "      <td>0</td>\n",
       "      <td>1</td>\n",
       "      <td>0</td>\n",
       "      <td>0</td>\n",
       "      <td>0</td>\n",
       "      <td>0</td>\n",
       "      <td>0</td>\n",
       "    </tr>\n",
       "    <tr>\n",
       "      <th>2843</th>\n",
       "      <td>0.884</td>\n",
       "      <td>-0.172707</td>\n",
       "      <td>1.625735</td>\n",
       "      <td>1.250699</td>\n",
       "      <td>0</td>\n",
       "      <td>1</td>\n",
       "      <td>0</td>\n",
       "      <td>0</td>\n",
       "      <td>0</td>\n",
       "      <td>1</td>\n",
       "      <td>0</td>\n",
       "      <td>0</td>\n",
       "      <td>1</td>\n",
       "      <td>0</td>\n",
       "      <td>1</td>\n",
       "      <td>0</td>\n",
       "      <td>0</td>\n",
       "      <td>0</td>\n",
       "      <td>0</td>\n",
       "      <td>0</td>\n",
       "    </tr>\n",
       "    <tr>\n",
       "      <th>10360</th>\n",
       "      <td>0.939</td>\n",
       "      <td>-0.491217</td>\n",
       "      <td>-0.760990</td>\n",
       "      <td>-0.570929</td>\n",
       "      <td>1</td>\n",
       "      <td>0</td>\n",
       "      <td>0</td>\n",
       "      <td>0</td>\n",
       "      <td>0</td>\n",
       "      <td>1</td>\n",
       "      <td>0</td>\n",
       "      <td>1</td>\n",
       "      <td>0</td>\n",
       "      <td>0</td>\n",
       "      <td>1</td>\n",
       "      <td>0</td>\n",
       "      <td>0</td>\n",
       "      <td>0</td>\n",
       "      <td>0</td>\n",
       "      <td>0</td>\n",
       "    </tr>\n",
       "  </tbody>\n",
       "</table>\n",
       "</div>"
      ],
      "text/plain": [
       "       city_development_index  experience  last_new_job  training_hours  \\\n",
       "6206                    0.896   -0.650472      1.625735       -0.521249   \n",
       "1931                    0.899   -1.287492     -0.760990        1.482543   \n",
       "1023                    0.624   -1.128237     -0.760990       -0.256284   \n",
       "2843                    0.884   -0.172707      1.625735        1.250699   \n",
       "10360                   0.939   -0.491217     -0.760990       -0.570929   \n",
       "\n",
       "       education_level_Graduate  education_level_Masters  \\\n",
       "6206                          1                        0   \n",
       "1931                          1                        0   \n",
       "1023                          1                        0   \n",
       "2843                          0                        1   \n",
       "10360                         1                        0   \n",
       "\n",
       "       education_level_Primary School  education_level_High School  \\\n",
       "6206                                0                            0   \n",
       "1931                                0                            0   \n",
       "1023                                0                            0   \n",
       "2843                                0                            0   \n",
       "10360                               0                            0   \n",
       "\n",
       "       education_level_Phd  relevent_experience_Has relevent experience  \\\n",
       "6206                     0                                            1   \n",
       "1931                     0                                            1   \n",
       "1023                     0                                            1   \n",
       "2843                     0                                            1   \n",
       "10360                    0                                            1   \n",
       "\n",
       "       relevent_experience_No relevent experience  gender_Male  gender_Other  \\\n",
       "6206                                            0            1             0   \n",
       "1931                                            0            1             0   \n",
       "1023                                            0            1             0   \n",
       "2843                                            0            0             1   \n",
       "10360                                           0            1             0   \n",
       "\n",
       "       gender_Female  company_type_Pvt Ltd  company_type_Early Stage Startup  \\\n",
       "6206               0                     1                                 0   \n",
       "1931               0                     1                                 0   \n",
       "1023               0                     1                                 0   \n",
       "2843               0                     1                                 0   \n",
       "10360              0                     1                                 0   \n",
       "\n",
       "       company_type_Funded Startup  company_type_NGO  \\\n",
       "6206                             0                 0   \n",
       "1931                             0                 0   \n",
       "1023                             0                 0   \n",
       "2843                             0                 0   \n",
       "10360                            0                 0   \n",
       "\n",
       "       company_type_Public Sector  company_type_Other  \n",
       "6206                            0                   0  \n",
       "1931                            0                   0  \n",
       "1023                            0                   0  \n",
       "2843                            0                   0  \n",
       "10360                           0                   0  "
      ]
     },
     "execution_count": 39,
     "metadata": {},
     "output_type": "execute_result"
    }
   ],
   "source": [
    "data_1.head(5)"
   ]
  },
  {
   "cell_type": "code",
   "execution_count": 40,
   "id": "7e27a342-3379-43ab-88d8-3e58ba8e396b",
   "metadata": {},
   "outputs": [
    {
     "data": {
      "text/plain": [
       "Index(['city_development_index', 'experience', 'last_new_job',\n",
       "       'training_hours', 'education_level_Graduate', 'education_level_Masters',\n",
       "       'education_level_Primary School', 'education_level_High School',\n",
       "       'education_level_Phd', 'relevent_experience_Has relevent experience',\n",
       "       'relevent_experience_No relevent experience', 'gender_Male',\n",
       "       'gender_Other', 'gender_Female', 'company_type_Pvt Ltd',\n",
       "       'company_type_Early Stage Startup', 'company_type_Funded Startup',\n",
       "       'company_type_NGO', 'company_type_Public Sector', 'company_type_Other'],\n",
       "      dtype='object')"
      ]
     },
     "execution_count": 40,
     "metadata": {},
     "output_type": "execute_result"
    }
   ],
   "source": [
    "data_1.columns"
   ]
  },
  {
   "cell_type": "code",
   "execution_count": 41,
   "id": "85d3824f-1e98-413a-b9de-ec7baf770685",
   "metadata": {},
   "outputs": [],
   "source": [
    "from sklearn.tree import DecisionTreeClassifier\n",
    "from sklearn.model_selection import GridSearchCV\n",
    "from sklearn import tree"
   ]
  },
  {
   "cell_type": "code",
   "execution_count": 42,
   "id": "99a8a166-f316-4998-896e-746a465c0d62",
   "metadata": {},
   "outputs": [],
   "source": [
    "from sklearn.ensemble import RandomForestClassifier"
   ]
  },
  {
   "cell_type": "code",
   "execution_count": 45,
   "id": "22c145a1-512d-44a7-b6a6-1543a1d91510",
   "metadata": {},
   "outputs": [],
   "source": [
    "grid_forestrest = RandomForestClassifier()\n",
    "params = {'max_depth': [3, 5, 7, 10], 'n_estimators':[43, 54, 65, 76]}\n",
    "grid_forest = GridSearchCV(grid_forestrest, params).fit(data_1, y_train)"
   ]
  },
  {
   "cell_type": "code",
   "execution_count": 46,
   "id": "a9645bf0-ac74-441f-934d-e32de4992034",
   "metadata": {},
   "outputs": [
    {
     "data": {
      "text/plain": [
       "RandomForestClassifier(max_depth=10, n_estimators=43)"
      ]
     },
     "execution_count": 46,
     "metadata": {},
     "output_type": "execute_result"
    }
   ],
   "source": [
    "grid_forest.best_estimator_"
   ]
  },
  {
   "cell_type": "code",
   "execution_count": 71,
   "id": "eb270632-4e60-47ed-8f12-27e1d7995a6e",
   "metadata": {},
   "outputs": [],
   "source": [
    "best_forest = RandomForestClassifier(max_depth=10, n_estimators=134).fit(data_1, y_train)"
   ]
  },
  {
   "cell_type": "code",
   "execution_count": 72,
   "id": "d77a1bfb-b251-4a9e-812e-aff7a59a8710",
   "metadata": {},
   "outputs": [
    {
     "data": {
      "text/html": [
       "<div>\n",
       "<style scoped>\n",
       "    .dataframe tbody tr th:only-of-type {\n",
       "        vertical-align: middle;\n",
       "    }\n",
       "\n",
       "    .dataframe tbody tr th {\n",
       "        vertical-align: top;\n",
       "    }\n",
       "\n",
       "    .dataframe thead th {\n",
       "        text-align: right;\n",
       "    }\n",
       "</style>\n",
       "<table border=\"1\" class=\"dataframe\">\n",
       "  <thead>\n",
       "    <tr style=\"text-align: right;\">\n",
       "      <th></th>\n",
       "      <th>0</th>\n",
       "    </tr>\n",
       "  </thead>\n",
       "  <tbody>\n",
       "    <tr>\n",
       "      <th>city_development_index</th>\n",
       "      <td>0.407163</td>\n",
       "    </tr>\n",
       "    <tr>\n",
       "      <th>experience</th>\n",
       "      <td>0.142946</td>\n",
       "    </tr>\n",
       "    <tr>\n",
       "      <th>last_new_job</th>\n",
       "      <td>0.068811</td>\n",
       "    </tr>\n",
       "    <tr>\n",
       "      <th>training_hours</th>\n",
       "      <td>0.183626</td>\n",
       "    </tr>\n",
       "    <tr>\n",
       "      <th>enrolled_university_no_enrollment</th>\n",
       "      <td>0.011257</td>\n",
       "    </tr>\n",
       "    <tr>\n",
       "      <th>enrolled_university_Full time course</th>\n",
       "      <td>0.012803</td>\n",
       "    </tr>\n",
       "    <tr>\n",
       "      <th>enrolled_university_Part time course</th>\n",
       "      <td>0.008248</td>\n",
       "    </tr>\n",
       "    <tr>\n",
       "      <th>education_level_Graduate</th>\n",
       "      <td>0.014276</td>\n",
       "    </tr>\n",
       "    <tr>\n",
       "      <th>education_level_Masters</th>\n",
       "      <td>0.013418</td>\n",
       "    </tr>\n",
       "    <tr>\n",
       "      <th>education_level_Phd</th>\n",
       "      <td>0.005044</td>\n",
       "    </tr>\n",
       "    <tr>\n",
       "      <th>major_discipline_Arts</th>\n",
       "      <td>0.003351</td>\n",
       "    </tr>\n",
       "    <tr>\n",
       "      <th>major_discipline_STEM</th>\n",
       "      <td>0.008788</td>\n",
       "    </tr>\n",
       "    <tr>\n",
       "      <th>major_discipline_Other</th>\n",
       "      <td>0.002271</td>\n",
       "    </tr>\n",
       "    <tr>\n",
       "      <th>major_discipline_Humanities</th>\n",
       "      <td>0.004626</td>\n",
       "    </tr>\n",
       "    <tr>\n",
       "      <th>major_discipline_Business Degree</th>\n",
       "      <td>0.003096</td>\n",
       "    </tr>\n",
       "    <tr>\n",
       "      <th>major_discipline_No Major</th>\n",
       "      <td>0.002912</td>\n",
       "    </tr>\n",
       "    <tr>\n",
       "      <th>relevent_experience_Has relevent experience</th>\n",
       "      <td>0.010661</td>\n",
       "    </tr>\n",
       "    <tr>\n",
       "      <th>relevent_experience_No relevent experience</th>\n",
       "      <td>0.010418</td>\n",
       "    </tr>\n",
       "    <tr>\n",
       "      <th>gender_Male</th>\n",
       "      <td>0.011872</td>\n",
       "    </tr>\n",
       "    <tr>\n",
       "      <th>gender_Female</th>\n",
       "      <td>0.012229</td>\n",
       "    </tr>\n",
       "    <tr>\n",
       "      <th>gender_Other</th>\n",
       "      <td>0.002246</td>\n",
       "    </tr>\n",
       "    <tr>\n",
       "      <th>company_type_Funded Startup</th>\n",
       "      <td>0.010799</td>\n",
       "    </tr>\n",
       "    <tr>\n",
       "      <th>company_type_Pvt Ltd</th>\n",
       "      <td>0.016540</td>\n",
       "    </tr>\n",
       "    <tr>\n",
       "      <th>company_type_Public Sector</th>\n",
       "      <td>0.011021</td>\n",
       "    </tr>\n",
       "    <tr>\n",
       "      <th>company_type_Early Stage Startup</th>\n",
       "      <td>0.008053</td>\n",
       "    </tr>\n",
       "    <tr>\n",
       "      <th>company_type_NGO</th>\n",
       "      <td>0.009800</td>\n",
       "    </tr>\n",
       "    <tr>\n",
       "      <th>company_type_Other</th>\n",
       "      <td>0.003724</td>\n",
       "    </tr>\n",
       "  </tbody>\n",
       "</table>\n",
       "</div>"
      ],
      "text/plain": [
       "                                                    0\n",
       "city_development_index                       0.407163\n",
       "experience                                   0.142946\n",
       "last_new_job                                 0.068811\n",
       "training_hours                               0.183626\n",
       "enrolled_university_no_enrollment            0.011257\n",
       "enrolled_university_Full time course         0.012803\n",
       "enrolled_university_Part time course         0.008248\n",
       "education_level_Graduate                     0.014276\n",
       "education_level_Masters                      0.013418\n",
       "education_level_Phd                          0.005044\n",
       "major_discipline_Arts                        0.003351\n",
       "major_discipline_STEM                        0.008788\n",
       "major_discipline_Other                       0.002271\n",
       "major_discipline_Humanities                  0.004626\n",
       "major_discipline_Business Degree             0.003096\n",
       "major_discipline_No Major                    0.002912\n",
       "relevent_experience_Has relevent experience  0.010661\n",
       "relevent_experience_No relevent experience   0.010418\n",
       "gender_Male                                  0.011872\n",
       "gender_Female                                0.012229\n",
       "gender_Other                                 0.002246\n",
       "company_type_Funded Startup                  0.010799\n",
       "company_type_Pvt Ltd                         0.016540\n",
       "company_type_Public Sector                   0.011021\n",
       "company_type_Early Stage Startup             0.008053\n",
       "company_type_NGO                             0.009800\n",
       "company_type_Other                           0.003724"
      ]
     },
     "execution_count": 72,
     "metadata": {},
     "output_type": "execute_result"
    }
   ],
   "source": [
    "pd.DataFrame([best_forest.feature_importances_], columns = best_forest.feature_names_in_).T"
   ]
  },
  {
   "cell_type": "code",
   "execution_count": 73,
   "id": "ac1ee75d-b9c8-44cf-a63b-63ae60829870",
   "metadata": {},
   "outputs": [],
   "source": [
    "pred_y = best_forest.predict(data_1)"
   ]
  },
  {
   "cell_type": "code",
   "execution_count": 74,
   "id": "a6c7fcec-6d0a-4548-8ba9-c290061e97d9",
   "metadata": {},
   "outputs": [
    {
     "data": {
      "text/plain": [
       "array([0., 0., 0., ..., 0., 0., 0.])"
      ]
     },
     "execution_count": 74,
     "metadata": {},
     "output_type": "execute_result"
    }
   ],
   "source": [
    "pred_y"
   ]
  },
  {
   "cell_type": "code",
   "execution_count": 75,
   "id": "4eae4e02-2cda-42f8-bdec-a643a1e0e38b",
   "metadata": {},
   "outputs": [
    {
     "data": {
      "text/plain": [
       "0.8241785980098264"
      ]
     },
     "execution_count": 75,
     "metadata": {},
     "output_type": "execute_result"
    }
   ],
   "source": [
    "metrics.roc_auc_score(y_train, pred_y)"
   ]
  },
  {
   "cell_type": "code",
   "execution_count": 76,
   "id": "7dab9b48-1599-40df-b122-758543a67562",
   "metadata": {},
   "outputs": [],
   "source": [
    "from sklearn.metrics import roc_auc_score"
   ]
  },
  {
   "cell_type": "code",
   "execution_count": 77,
   "id": "cb1eb469-384c-4660-adaa-58e665c1e9dd",
   "metadata": {},
   "outputs": [
    {
     "data": {
      "text/plain": [
       "0.9326468602295747"
      ]
     },
     "execution_count": 77,
     "metadata": {},
     "output_type": "execute_result"
    }
   ],
   "source": [
    "metrics.accuracy_score(y_train, pred_y)"
   ]
  },
  {
   "cell_type": "code",
   "execution_count": 78,
   "id": "8aabbaa2-f865-4785-b372-fe0d58f9daf3",
   "metadata": {},
   "outputs": [],
   "source": [
    "test_2 = pipeline_gilda.transform(X_test)"
   ]
  },
  {
   "cell_type": "code",
   "execution_count": 79,
   "id": "7f14441d-2df4-4419-8882-1fbfe013cd47",
   "metadata": {},
   "outputs": [],
   "source": [
    "pred_y_test = best_forest.predict(test_2)"
   ]
  },
  {
   "cell_type": "code",
   "execution_count": 80,
   "id": "00a0bdda-3924-4b50-a108-d5beb7a48e56",
   "metadata": {},
   "outputs": [
    {
     "data": {
      "text/plain": [
       "0.6723449996993205"
      ]
     },
     "execution_count": 80,
     "metadata": {},
     "output_type": "execute_result"
    }
   ],
   "source": [
    "metrics.roc_auc_score(y_test, pred_y_test)"
   ]
  },
  {
   "cell_type": "code",
   "execution_count": 81,
   "id": "4218095e-1d72-4068-a4a7-c26c05afda2a",
   "metadata": {},
   "outputs": [],
   "source": [
    "df_test_copy = df_test.copy(deep=False)"
   ]
  },
  {
   "cell_type": "code",
   "execution_count": 82,
   "id": "c5c74d55-bc5e-40ae-8bcd-470fdc78783c",
   "metadata": {},
   "outputs": [],
   "source": [
    "prediccion = df_test_copy.copy(deep=False)"
   ]
  },
  {
   "cell_type": "code",
   "execution_count": 83,
   "id": "2836dcc4-861c-466b-88f6-a4c4bc8066a5",
   "metadata": {},
   "outputs": [],
   "source": [
    "prediccion.drop(['city', 'city_development_index', 'gender',\n",
    "       'relevent_experience', 'enrolled_university', 'education_level',\n",
    "       'major_discipline', 'experience', 'company_size', 'company_type',\n",
    "       'last_new_job', 'training_hours'],axis=1, inplace=True)"
   ]
  },
  {
   "cell_type": "code",
   "execution_count": 84,
   "id": "16618dfa-d6f1-4d03-984a-e47ea648c7a0",
   "metadata": {},
   "outputs": [],
   "source": [
    "pred_y_test = best_forest.predict_proba(test_1)"
   ]
  },
  {
   "cell_type": "code",
   "execution_count": 85,
   "id": "8a145c96-2a9c-4d1f-b177-ea30d771ba7a",
   "metadata": {},
   "outputs": [
    {
     "data": {
      "text/plain": [
       "array([0., 0., 0., ..., 0., 0., 0.])"
      ]
     },
     "execution_count": 85,
     "metadata": {},
     "output_type": "execute_result"
    }
   ],
   "source": [
    " best_forest.predict(test_1)"
   ]
  },
  {
   "cell_type": "code",
   "execution_count": 86,
   "id": "33c3701e-6a63-4a78-aca9-ab807bc18d09",
   "metadata": {},
   "outputs": [
    {
     "data": {
      "text/plain": [
       "array([[0.7913764 , 0.2086236 ],\n",
       "       [0.95914894, 0.04085106],\n",
       "       [0.89863721, 0.10136279],\n",
       "       ...,\n",
       "       [0.92490321, 0.07509679],\n",
       "       [0.93581589, 0.06418411],\n",
       "       [0.92238338, 0.07761662]])"
      ]
     },
     "execution_count": 86,
     "metadata": {},
     "output_type": "execute_result"
    }
   ],
   "source": [
    "pred_y_test[:-1]"
   ]
  },
  {
   "cell_type": "code",
   "execution_count": 87,
   "id": "17005bb5-cb2a-4224-b9e8-5ade36460fe0",
   "metadata": {},
   "outputs": [],
   "source": [
    "datos=[]\n",
    "for x in pred_y_test:\n",
    "    datos.append(x[1])"
   ]
  },
  {
   "cell_type": "code",
   "execution_count": 88,
   "id": "e4c7094e-2c7a-4cf2-8962-06348219cfc2",
   "metadata": {},
   "outputs": [],
   "source": [
    "target = pd.DataFrame(datos)"
   ]
  },
  {
   "cell_type": "code",
   "execution_count": 89,
   "id": "4523eae6-1a99-4ed9-bdcd-63e3ec4ef96a",
   "metadata": {},
   "outputs": [],
   "source": [
    "prediccion['target'] = target"
   ]
  },
  {
   "cell_type": "code",
   "execution_count": 90,
   "id": "99ae60f4-f8ea-40b2-826c-4005902f1778",
   "metadata": {},
   "outputs": [
    {
     "data": {
      "text/html": [
       "<div>\n",
       "<style scoped>\n",
       "    .dataframe tbody tr th:only-of-type {\n",
       "        vertical-align: middle;\n",
       "    }\n",
       "\n",
       "    .dataframe tbody tr th {\n",
       "        vertical-align: top;\n",
       "    }\n",
       "\n",
       "    .dataframe thead th {\n",
       "        text-align: right;\n",
       "    }\n",
       "</style>\n",
       "<table border=\"1\" class=\"dataframe\">\n",
       "  <thead>\n",
       "    <tr style=\"text-align: right;\">\n",
       "      <th></th>\n",
       "      <th>enrollee_id</th>\n",
       "      <th>target</th>\n",
       "    </tr>\n",
       "  </thead>\n",
       "  <tbody>\n",
       "    <tr>\n",
       "      <th>0</th>\n",
       "      <td>23603</td>\n",
       "      <td>0.208624</td>\n",
       "    </tr>\n",
       "    <tr>\n",
       "      <th>1</th>\n",
       "      <td>22499</td>\n",
       "      <td>0.040851</td>\n",
       "    </tr>\n",
       "    <tr>\n",
       "      <th>2</th>\n",
       "      <td>10465</td>\n",
       "      <td>0.101363</td>\n",
       "    </tr>\n",
       "    <tr>\n",
       "      <th>3</th>\n",
       "      <td>8293</td>\n",
       "      <td>0.125104</td>\n",
       "    </tr>\n",
       "    <tr>\n",
       "      <th>4</th>\n",
       "      <td>4246</td>\n",
       "      <td>0.070835</td>\n",
       "    </tr>\n",
       "    <tr>\n",
       "      <th>...</th>\n",
       "      <td>...</td>\n",
       "      <td>...</td>\n",
       "    </tr>\n",
       "    <tr>\n",
       "      <th>3827</th>\n",
       "      <td>8880</td>\n",
       "      <td>0.133107</td>\n",
       "    </tr>\n",
       "    <tr>\n",
       "      <th>3828</th>\n",
       "      <td>7886</td>\n",
       "      <td>0.075097</td>\n",
       "    </tr>\n",
       "    <tr>\n",
       "      <th>3829</th>\n",
       "      <td>12279</td>\n",
       "      <td>0.064184</td>\n",
       "    </tr>\n",
       "    <tr>\n",
       "      <th>3830</th>\n",
       "      <td>5326</td>\n",
       "      <td>0.077617</td>\n",
       "    </tr>\n",
       "    <tr>\n",
       "      <th>3831</th>\n",
       "      <td>4017</td>\n",
       "      <td>0.039655</td>\n",
       "    </tr>\n",
       "  </tbody>\n",
       "</table>\n",
       "<p>3832 rows × 2 columns</p>\n",
       "</div>"
      ],
      "text/plain": [
       "      enrollee_id    target\n",
       "0           23603  0.208624\n",
       "1           22499  0.040851\n",
       "2           10465  0.101363\n",
       "3            8293  0.125104\n",
       "4            4246  0.070835\n",
       "...           ...       ...\n",
       "3827         8880  0.133107\n",
       "3828         7886  0.075097\n",
       "3829        12279  0.064184\n",
       "3830         5326  0.077617\n",
       "3831         4017  0.039655\n",
       "\n",
       "[3832 rows x 2 columns]"
      ]
     },
     "execution_count": 90,
     "metadata": {},
     "output_type": "execute_result"
    }
   ],
   "source": [
    "prediccion"
   ]
  },
  {
   "cell_type": "code",
   "execution_count": 91,
   "id": "88fdbbf8-a1ff-46d1-8dd3-db78c55d6db5",
   "metadata": {},
   "outputs": [],
   "source": [
    "prediccion.to_csv('prediccion3_gilda.csv', index=False)"
   ]
  },
  {
   "cell_type": "code",
   "execution_count": null,
   "id": "a5c528bc-a3e9-4206-9b4e-3e3af3c60375",
   "metadata": {},
   "outputs": [],
   "source": []
  }
 ],
 "metadata": {
  "kernelspec": {
   "display_name": "Python 3 (ipykernel)",
   "language": "python",
   "name": "python3"
  },
  "language_info": {
   "codemirror_mode": {
    "name": "ipython",
    "version": 3
   },
   "file_extension": ".py",
   "mimetype": "text/x-python",
   "name": "python",
   "nbconvert_exporter": "python",
   "pygments_lexer": "ipython3",
   "version": "3.9.12"
  }
 },
 "nbformat": 4,
 "nbformat_minor": 5
}
